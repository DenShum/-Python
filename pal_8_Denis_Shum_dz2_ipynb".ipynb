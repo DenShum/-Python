{
  "nbformat": 4,
  "nbformat_minor": 0,
  "metadata": {
    "colab": {
      "name": "pal-8_Denis_Shum_dz2.ipynb\"",
      "provenance": [],
      "collapsed_sections": [],
      "authorship_tag": "ABX9TyOaWqZSpyShazUHf276dNoS",
      "include_colab_link": true
    },
    "kernelspec": {
      "name": "python3",
      "display_name": "Python 3"
    },
    "language_info": {
      "name": "python"
    }
  },
  "cells": [
    {
      "cell_type": "markdown",
      "metadata": {
        "id": "view-in-github",
        "colab_type": "text"
      },
      "source": [
        "<a href=\"https://colab.research.google.com/github/DenShum/Statistics-in-Python/blob/main/pal_8_Denis_Shum_dz2_ipynb%22.ipynb\" target=\"_parent\"><img src=\"https://colab.research.google.com/assets/colab-badge.svg\" alt=\"Open In Colab\"/></a>"
      ]
    },
    {
      "cell_type": "markdown",
      "metadata": {
        "id": "AIeKIjg6UwMI"
      },
      "source": [
        "Обязательная часть\n",
        "Вам необходимо провести базовый EDA выбранного набора данных.\n",
        "\n",
        "Требования к анализу:\n",
        "\n",
        "построить не менее 4 визуализаций различных видов;\n",
        "каждая визуализация должным образом оформлена и читается даже в отрыве от контекста;\n",
        "по каждой визуализации необходимо написать вывод (какую гипотезу на ее основе можно выдвинуть?).\n",
        "Откуда брать данные?\n",
        "\n",
        "Можете взять свои рабочие данные, либо найти открытые данные (например, на kaggle.com) по интересующей вас предметной области (тогда не забудьте их выложить на github вместе с ноутбуком).\n",
        "Если идей нет, можете взять один из перечисленных ниже:\n",
        "\n",
        "данные приложений из Google Play;\n",
        "данные о видео из трендов YouTube;\n",
        "данные об уровне счастья в разных странах."
      ]
    },
    {
      "cell_type": "code",
      "metadata": {
        "colab": {
          "base_uri": "https://localhost:8080/"
        },
        "id": "8Qk0u0XmU8-G",
        "outputId": "20b42d26-3175-41c0-b06f-2f20099f8d84"
      },
      "source": [
        "import matplotlib.pyplot as plt\n",
        "import seaborn as sns\n",
        "import pandas as pd\n",
        "import numpy as np\n",
        "\n",
        "df = pd.read_csv('/content/2015.csv')\n",
        "print(df.shape)\n",
        "df.info()\n"
      ],
      "execution_count": null,
      "outputs": [
        {
          "output_type": "stream",
          "name": "stdout",
          "text": [
            "(158, 12)\n",
            "<class 'pandas.core.frame.DataFrame'>\n",
            "RangeIndex: 158 entries, 0 to 157\n",
            "Data columns (total 12 columns):\n",
            " #   Column                         Non-Null Count  Dtype  \n",
            "---  ------                         --------------  -----  \n",
            " 0   Country                        158 non-null    object \n",
            " 1   Region                         158 non-null    object \n",
            " 2   Happiness Rank                 158 non-null    int64  \n",
            " 3   Happiness Score                158 non-null    float64\n",
            " 4   Standard Error                 158 non-null    float64\n",
            " 5   Economy (GDP per Capita)       158 non-null    float64\n",
            " 6   Family                         158 non-null    float64\n",
            " 7   Health (Life Expectancy)       158 non-null    float64\n",
            " 8   Freedom                        158 non-null    float64\n",
            " 9   Trust (Government Corruption)  158 non-null    float64\n",
            " 10  Generosity                     158 non-null    float64\n",
            " 11  Dystopia Residual              158 non-null    float64\n",
            "dtypes: float64(9), int64(1), object(2)\n",
            "memory usage: 14.9+ KB\n"
          ]
        }
      ]
    },
    {
      "cell_type": "code",
      "metadata": {
        "colab": {
          "base_uri": "https://localhost:8080/",
          "height": 363
        },
        "id": "fxt5C8D79plS",
        "outputId": "d0a83866-a56f-438a-d2ca-80b5e42a7e33"
      },
      "source": [
        "df.describe().round().T"
      ],
      "execution_count": null,
      "outputs": [
        {
          "output_type": "execute_result",
          "data": {
            "text/html": [
              "<div>\n",
              "<style scoped>\n",
              "    .dataframe tbody tr th:only-of-type {\n",
              "        vertical-align: middle;\n",
              "    }\n",
              "\n",
              "    .dataframe tbody tr th {\n",
              "        vertical-align: top;\n",
              "    }\n",
              "\n",
              "    .dataframe thead th {\n",
              "        text-align: right;\n",
              "    }\n",
              "</style>\n",
              "<table border=\"1\" class=\"dataframe\">\n",
              "  <thead>\n",
              "    <tr style=\"text-align: right;\">\n",
              "      <th></th>\n",
              "      <th>count</th>\n",
              "      <th>mean</th>\n",
              "      <th>std</th>\n",
              "      <th>min</th>\n",
              "      <th>25%</th>\n",
              "      <th>50%</th>\n",
              "      <th>75%</th>\n",
              "      <th>max</th>\n",
              "    </tr>\n",
              "  </thead>\n",
              "  <tbody>\n",
              "    <tr>\n",
              "      <th>Happiness Rank</th>\n",
              "      <td>158.0</td>\n",
              "      <td>79.0</td>\n",
              "      <td>46.0</td>\n",
              "      <td>1.0</td>\n",
              "      <td>40.0</td>\n",
              "      <td>80.0</td>\n",
              "      <td>119.0</td>\n",
              "      <td>158.0</td>\n",
              "    </tr>\n",
              "    <tr>\n",
              "      <th>Happiness Score</th>\n",
              "      <td>158.0</td>\n",
              "      <td>5.0</td>\n",
              "      <td>1.0</td>\n",
              "      <td>3.0</td>\n",
              "      <td>5.0</td>\n",
              "      <td>5.0</td>\n",
              "      <td>6.0</td>\n",
              "      <td>8.0</td>\n",
              "    </tr>\n",
              "    <tr>\n",
              "      <th>Standard Error</th>\n",
              "      <td>158.0</td>\n",
              "      <td>0.0</td>\n",
              "      <td>0.0</td>\n",
              "      <td>0.0</td>\n",
              "      <td>0.0</td>\n",
              "      <td>0.0</td>\n",
              "      <td>0.0</td>\n",
              "      <td>0.0</td>\n",
              "    </tr>\n",
              "    <tr>\n",
              "      <th>Economy (GDP per Capita)</th>\n",
              "      <td>158.0</td>\n",
              "      <td>1.0</td>\n",
              "      <td>0.0</td>\n",
              "      <td>0.0</td>\n",
              "      <td>1.0</td>\n",
              "      <td>1.0</td>\n",
              "      <td>1.0</td>\n",
              "      <td>2.0</td>\n",
              "    </tr>\n",
              "    <tr>\n",
              "      <th>Family</th>\n",
              "      <td>158.0</td>\n",
              "      <td>1.0</td>\n",
              "      <td>0.0</td>\n",
              "      <td>0.0</td>\n",
              "      <td>1.0</td>\n",
              "      <td>1.0</td>\n",
              "      <td>1.0</td>\n",
              "      <td>1.0</td>\n",
              "    </tr>\n",
              "    <tr>\n",
              "      <th>Health (Life Expectancy)</th>\n",
              "      <td>158.0</td>\n",
              "      <td>1.0</td>\n",
              "      <td>0.0</td>\n",
              "      <td>0.0</td>\n",
              "      <td>0.0</td>\n",
              "      <td>1.0</td>\n",
              "      <td>1.0</td>\n",
              "      <td>1.0</td>\n",
              "    </tr>\n",
              "    <tr>\n",
              "      <th>Freedom</th>\n",
              "      <td>158.0</td>\n",
              "      <td>0.0</td>\n",
              "      <td>0.0</td>\n",
              "      <td>0.0</td>\n",
              "      <td>0.0</td>\n",
              "      <td>0.0</td>\n",
              "      <td>1.0</td>\n",
              "      <td>1.0</td>\n",
              "    </tr>\n",
              "    <tr>\n",
              "      <th>Trust (Government Corruption)</th>\n",
              "      <td>158.0</td>\n",
              "      <td>0.0</td>\n",
              "      <td>0.0</td>\n",
              "      <td>0.0</td>\n",
              "      <td>0.0</td>\n",
              "      <td>0.0</td>\n",
              "      <td>0.0</td>\n",
              "      <td>1.0</td>\n",
              "    </tr>\n",
              "    <tr>\n",
              "      <th>Generosity</th>\n",
              "      <td>158.0</td>\n",
              "      <td>0.0</td>\n",
              "      <td>0.0</td>\n",
              "      <td>0.0</td>\n",
              "      <td>0.0</td>\n",
              "      <td>0.0</td>\n",
              "      <td>0.0</td>\n",
              "      <td>1.0</td>\n",
              "    </tr>\n",
              "    <tr>\n",
              "      <th>Dystopia Residual</th>\n",
              "      <td>158.0</td>\n",
              "      <td>2.0</td>\n",
              "      <td>1.0</td>\n",
              "      <td>0.0</td>\n",
              "      <td>2.0</td>\n",
              "      <td>2.0</td>\n",
              "      <td>2.0</td>\n",
              "      <td>4.0</td>\n",
              "    </tr>\n",
              "  </tbody>\n",
              "</table>\n",
              "</div>"
            ],
            "text/plain": [
              "                               count  mean   std  min   25%   50%    75%    max\n",
              "Happiness Rank                 158.0  79.0  46.0  1.0  40.0  80.0  119.0  158.0\n",
              "Happiness Score                158.0   5.0   1.0  3.0   5.0   5.0    6.0    8.0\n",
              "Standard Error                 158.0   0.0   0.0  0.0   0.0   0.0    0.0    0.0\n",
              "Economy (GDP per Capita)       158.0   1.0   0.0  0.0   1.0   1.0    1.0    2.0\n",
              "Family                         158.0   1.0   0.0  0.0   1.0   1.0    1.0    1.0\n",
              "Health (Life Expectancy)       158.0   1.0   0.0  0.0   0.0   1.0    1.0    1.0\n",
              "Freedom                        158.0   0.0   0.0  0.0   0.0   0.0    1.0    1.0\n",
              "Trust (Government Corruption)  158.0   0.0   0.0  0.0   0.0   0.0    0.0    1.0\n",
              "Generosity                     158.0   0.0   0.0  0.0   0.0   0.0    0.0    1.0\n",
              "Dystopia Residual              158.0   2.0   1.0  0.0   2.0   2.0    2.0    4.0"
            ]
          },
          "metadata": {},
          "execution_count": 2
        }
      ]
    },
    {
      "cell_type": "code",
      "metadata": {
        "colab": {
          "base_uri": "https://localhost:8080/",
          "height": 365
        },
        "id": "D-sts9vm-wc1",
        "outputId": "4ff6dd78-5e14-4b4d-bdd5-7920bf1f0e89"
      },
      "source": [
        "df.head()"
      ],
      "execution_count": null,
      "outputs": [
        {
          "output_type": "execute_result",
          "data": {
            "text/html": [
              "<div>\n",
              "<style scoped>\n",
              "    .dataframe tbody tr th:only-of-type {\n",
              "        vertical-align: middle;\n",
              "    }\n",
              "\n",
              "    .dataframe tbody tr th {\n",
              "        vertical-align: top;\n",
              "    }\n",
              "\n",
              "    .dataframe thead th {\n",
              "        text-align: right;\n",
              "    }\n",
              "</style>\n",
              "<table border=\"1\" class=\"dataframe\">\n",
              "  <thead>\n",
              "    <tr style=\"text-align: right;\">\n",
              "      <th></th>\n",
              "      <th>Country</th>\n",
              "      <th>Region</th>\n",
              "      <th>Happiness Rank</th>\n",
              "      <th>Happiness Score</th>\n",
              "      <th>Standard Error</th>\n",
              "      <th>Economy (GDP per Capita)</th>\n",
              "      <th>Family</th>\n",
              "      <th>Health (Life Expectancy)</th>\n",
              "      <th>Freedom</th>\n",
              "      <th>Trust (Government Corruption)</th>\n",
              "      <th>Generosity</th>\n",
              "      <th>Dystopia Residual</th>\n",
              "    </tr>\n",
              "  </thead>\n",
              "  <tbody>\n",
              "    <tr>\n",
              "      <th>0</th>\n",
              "      <td>Switzerland</td>\n",
              "      <td>Western Europe</td>\n",
              "      <td>1</td>\n",
              "      <td>7.587</td>\n",
              "      <td>0.03411</td>\n",
              "      <td>1.39651</td>\n",
              "      <td>1.34951</td>\n",
              "      <td>0.94143</td>\n",
              "      <td>0.66557</td>\n",
              "      <td>0.41978</td>\n",
              "      <td>0.29678</td>\n",
              "      <td>2.51738</td>\n",
              "    </tr>\n",
              "    <tr>\n",
              "      <th>1</th>\n",
              "      <td>Iceland</td>\n",
              "      <td>Western Europe</td>\n",
              "      <td>2</td>\n",
              "      <td>7.561</td>\n",
              "      <td>0.04884</td>\n",
              "      <td>1.30232</td>\n",
              "      <td>1.40223</td>\n",
              "      <td>0.94784</td>\n",
              "      <td>0.62877</td>\n",
              "      <td>0.14145</td>\n",
              "      <td>0.43630</td>\n",
              "      <td>2.70201</td>\n",
              "    </tr>\n",
              "    <tr>\n",
              "      <th>2</th>\n",
              "      <td>Denmark</td>\n",
              "      <td>Western Europe</td>\n",
              "      <td>3</td>\n",
              "      <td>7.527</td>\n",
              "      <td>0.03328</td>\n",
              "      <td>1.32548</td>\n",
              "      <td>1.36058</td>\n",
              "      <td>0.87464</td>\n",
              "      <td>0.64938</td>\n",
              "      <td>0.48357</td>\n",
              "      <td>0.34139</td>\n",
              "      <td>2.49204</td>\n",
              "    </tr>\n",
              "    <tr>\n",
              "      <th>3</th>\n",
              "      <td>Norway</td>\n",
              "      <td>Western Europe</td>\n",
              "      <td>4</td>\n",
              "      <td>7.522</td>\n",
              "      <td>0.03880</td>\n",
              "      <td>1.45900</td>\n",
              "      <td>1.33095</td>\n",
              "      <td>0.88521</td>\n",
              "      <td>0.66973</td>\n",
              "      <td>0.36503</td>\n",
              "      <td>0.34699</td>\n",
              "      <td>2.46531</td>\n",
              "    </tr>\n",
              "    <tr>\n",
              "      <th>4</th>\n",
              "      <td>Canada</td>\n",
              "      <td>North America</td>\n",
              "      <td>5</td>\n",
              "      <td>7.427</td>\n",
              "      <td>0.03553</td>\n",
              "      <td>1.32629</td>\n",
              "      <td>1.32261</td>\n",
              "      <td>0.90563</td>\n",
              "      <td>0.63297</td>\n",
              "      <td>0.32957</td>\n",
              "      <td>0.45811</td>\n",
              "      <td>2.45176</td>\n",
              "    </tr>\n",
              "  </tbody>\n",
              "</table>\n",
              "</div>"
            ],
            "text/plain": [
              "       Country          Region  ...  Generosity  Dystopia Residual\n",
              "0  Switzerland  Western Europe  ...     0.29678            2.51738\n",
              "1      Iceland  Western Europe  ...     0.43630            2.70201\n",
              "2      Denmark  Western Europe  ...     0.34139            2.49204\n",
              "3       Norway  Western Europe  ...     0.34699            2.46531\n",
              "4       Canada   North America  ...     0.45811            2.45176\n",
              "\n",
              "[5 rows x 12 columns]"
            ]
          },
          "metadata": {},
          "execution_count": 3
        }
      ]
    },
    {
      "cell_type": "code",
      "metadata": {
        "colab": {
          "base_uri": "https://localhost:8080/",
          "height": 643
        },
        "id": "Zx_Q6zaXiF5b",
        "outputId": "1180be37-0b62-48a0-b770-bbce9901f99a"
      },
      "source": [
        "# Анализ регионов (10 регионов).Группировка по региону, нахождение среднего и сортировка по оценке\n",
        "# счастья, по убыванию\n",
        "df_region = df.groupby('Region').mean().sort_values('Happiness Score',ascending=False)\n",
        "df_region2 = df_region.groupby('Region').mean().reset_index()\n",
        "df_region2.head(10)"
      ],
      "execution_count": null,
      "outputs": [
        {
          "output_type": "execute_result",
          "data": {
            "text/html": [
              "<div>\n",
              "<style scoped>\n",
              "    .dataframe tbody tr th:only-of-type {\n",
              "        vertical-align: middle;\n",
              "    }\n",
              "\n",
              "    .dataframe tbody tr th {\n",
              "        vertical-align: top;\n",
              "    }\n",
              "\n",
              "    .dataframe thead th {\n",
              "        text-align: right;\n",
              "    }\n",
              "</style>\n",
              "<table border=\"1\" class=\"dataframe\">\n",
              "  <thead>\n",
              "    <tr style=\"text-align: right;\">\n",
              "      <th></th>\n",
              "      <th>Region</th>\n",
              "      <th>Happiness Rank</th>\n",
              "      <th>Happiness Score</th>\n",
              "      <th>Standard Error</th>\n",
              "      <th>Economy (GDP per Capita)</th>\n",
              "      <th>Family</th>\n",
              "      <th>Health (Life Expectancy)</th>\n",
              "      <th>Freedom</th>\n",
              "      <th>Trust (Government Corruption)</th>\n",
              "      <th>Generosity</th>\n",
              "      <th>Dystopia Residual</th>\n",
              "    </tr>\n",
              "  </thead>\n",
              "  <tbody>\n",
              "    <tr>\n",
              "      <th>0</th>\n",
              "      <td>Australia and New Zealand</td>\n",
              "      <td>9.500000</td>\n",
              "      <td>7.285000</td>\n",
              "      <td>0.037270</td>\n",
              "      <td>1.291880</td>\n",
              "      <td>1.314450</td>\n",
              "      <td>0.919965</td>\n",
              "      <td>0.645310</td>\n",
              "      <td>0.392795</td>\n",
              "      <td>0.455315</td>\n",
              "      <td>2.265355</td>\n",
              "    </tr>\n",
              "    <tr>\n",
              "      <th>1</th>\n",
              "      <td>Central and Eastern Europe</td>\n",
              "      <td>79.000000</td>\n",
              "      <td>5.332931</td>\n",
              "      <td>0.045208</td>\n",
              "      <td>0.942438</td>\n",
              "      <td>1.053042</td>\n",
              "      <td>0.718774</td>\n",
              "      <td>0.358269</td>\n",
              "      <td>0.086674</td>\n",
              "      <td>0.152264</td>\n",
              "      <td>2.021400</td>\n",
              "    </tr>\n",
              "    <tr>\n",
              "      <th>2</th>\n",
              "      <td>Eastern Asia</td>\n",
              "      <td>64.500000</td>\n",
              "      <td>5.626167</td>\n",
              "      <td>0.037225</td>\n",
              "      <td>1.151780</td>\n",
              "      <td>1.099427</td>\n",
              "      <td>0.877388</td>\n",
              "      <td>0.462490</td>\n",
              "      <td>0.127695</td>\n",
              "      <td>0.225885</td>\n",
              "      <td>1.681607</td>\n",
              "    </tr>\n",
              "    <tr>\n",
              "      <th>3</th>\n",
              "      <td>Latin America and Caribbean</td>\n",
              "      <td>46.909091</td>\n",
              "      <td>6.144682</td>\n",
              "      <td>0.061127</td>\n",
              "      <td>0.876815</td>\n",
              "      <td>1.104720</td>\n",
              "      <td>0.703870</td>\n",
              "      <td>0.501740</td>\n",
              "      <td>0.117172</td>\n",
              "      <td>0.217788</td>\n",
              "      <td>2.622577</td>\n",
              "    </tr>\n",
              "    <tr>\n",
              "      <th>4</th>\n",
              "      <td>Middle East and Northern Africa</td>\n",
              "      <td>77.600000</td>\n",
              "      <td>5.406900</td>\n",
              "      <td>0.046337</td>\n",
              "      <td>1.066973</td>\n",
              "      <td>0.920490</td>\n",
              "      <td>0.705616</td>\n",
              "      <td>0.361751</td>\n",
              "      <td>0.181702</td>\n",
              "      <td>0.190375</td>\n",
              "      <td>1.980009</td>\n",
              "    </tr>\n",
              "    <tr>\n",
              "      <th>5</th>\n",
              "      <td>North America</td>\n",
              "      <td>10.000000</td>\n",
              "      <td>7.273000</td>\n",
              "      <td>0.036960</td>\n",
              "      <td>1.360400</td>\n",
              "      <td>1.284860</td>\n",
              "      <td>0.883710</td>\n",
              "      <td>0.589505</td>\n",
              "      <td>0.244235</td>\n",
              "      <td>0.429580</td>\n",
              "      <td>2.480935</td>\n",
              "    </tr>\n",
              "    <tr>\n",
              "      <th>6</th>\n",
              "      <td>Southeastern Asia</td>\n",
              "      <td>81.222222</td>\n",
              "      <td>5.317444</td>\n",
              "      <td>0.042691</td>\n",
              "      <td>0.789054</td>\n",
              "      <td>0.940468</td>\n",
              "      <td>0.677357</td>\n",
              "      <td>0.557104</td>\n",
              "      <td>0.151276</td>\n",
              "      <td>0.419261</td>\n",
              "      <td>1.783020</td>\n",
              "    </tr>\n",
              "    <tr>\n",
              "      <th>7</th>\n",
              "      <td>Southern Asia</td>\n",
              "      <td>113.142857</td>\n",
              "      <td>4.580857</td>\n",
              "      <td>0.032161</td>\n",
              "      <td>0.560486</td>\n",
              "      <td>0.645321</td>\n",
              "      <td>0.540830</td>\n",
              "      <td>0.373337</td>\n",
              "      <td>0.102536</td>\n",
              "      <td>0.341429</td>\n",
              "      <td>2.016769</td>\n",
              "    </tr>\n",
              "    <tr>\n",
              "      <th>8</th>\n",
              "      <td>Sub-Saharan Africa</td>\n",
              "      <td>127.900000</td>\n",
              "      <td>4.202800</td>\n",
              "      <td>0.055299</td>\n",
              "      <td>0.380473</td>\n",
              "      <td>0.809085</td>\n",
              "      <td>0.282332</td>\n",
              "      <td>0.365944</td>\n",
              "      <td>0.123878</td>\n",
              "      <td>0.221137</td>\n",
              "      <td>2.019980</td>\n",
              "    </tr>\n",
              "    <tr>\n",
              "      <th>9</th>\n",
              "      <td>Western Europe</td>\n",
              "      <td>29.523810</td>\n",
              "      <td>6.689619</td>\n",
              "      <td>0.037625</td>\n",
              "      <td>1.298596</td>\n",
              "      <td>1.247302</td>\n",
              "      <td>0.909148</td>\n",
              "      <td>0.549926</td>\n",
              "      <td>0.231463</td>\n",
              "      <td>0.302109</td>\n",
              "      <td>2.151185</td>\n",
              "    </tr>\n",
              "  </tbody>\n",
              "</table>\n",
              "</div>"
            ],
            "text/plain": [
              "                            Region  ...  Dystopia Residual\n",
              "0        Australia and New Zealand  ...           2.265355\n",
              "1       Central and Eastern Europe  ...           2.021400\n",
              "2                     Eastern Asia  ...           1.681607\n",
              "3      Latin America and Caribbean  ...           2.622577\n",
              "4  Middle East and Northern Africa  ...           1.980009\n",
              "5                    North America  ...           2.480935\n",
              "6                Southeastern Asia  ...           1.783020\n",
              "7                    Southern Asia  ...           2.016769\n",
              "8               Sub-Saharan Africa  ...           2.019980\n",
              "9                   Western Europe  ...           2.151185\n",
              "\n",
              "[10 rows x 11 columns]"
            ]
          },
          "metadata": {},
          "execution_count": 4
        }
      ]
    },
    {
      "cell_type": "code",
      "metadata": {
        "colab": {
          "base_uri": "https://localhost:8080/",
          "height": 451
        },
        "id": "Nfxf3cacmpaA",
        "outputId": "feb1f5a2-f698-4c92-b785-908e54587682"
      },
      "source": [
        "# Три самых счастливых региона по \"Оценке счастья\":Australia and New Zealand, North America и Western Europe\n",
        "# Самые несчастные регионы - Sub-Saharan Africa и Southern Asia\n",
        "plt.bar(df_region2[\"Region\"],df_region2['Happiness Score'])\n",
        "plt.ylabel(\"Оценка счастья\", fontsize=15,color=\"Green\")\n",
        "plt.xlabel(\"Регион\", fontsize=15,color=\"Blue\")\n",
        "plt.xticks(rotation=90)"
      ],
      "execution_count": null,
      "outputs": [
        {
          "output_type": "execute_result",
          "data": {
            "text/plain": [
              "([0, 1, 2, 3, 4, 5, 6, 7, 8, 9], <a list of 10 Text major ticklabel objects>)"
            ]
          },
          "metadata": {},
          "execution_count": 5
        },
        {
          "output_type": "display_data",
          "data": {
            "image/png": "[encoded data removed]",
            "text/plain": [
              "<Figure size 432x288 with 1 Axes>"
            ]
          },
          "metadata": {
            "needs_background": "light"
          }
        }
      ]
    },
    {
      "cell_type": "code",
      "metadata": {
        "colab": {
          "base_uri": "https://localhost:8080/",
          "height": 299
        },
        "id": "VOaagVgn2JQM",
        "outputId": "95ac442f-6eeb-4e08-bcc9-3bf4f7bc8a8e"
      },
      "source": [
        "# Основные статистические показател \"Оценки счастья\" среди стран (29) региона Центральной и Восточной Европы\n",
        "# Среди стран региона показатели отличаются не сильно\n",
        "df_Centr = df[(df['Region']=='Central and Eastern Europe')]\n",
        "df_Centr['Happiness Score'].plot(kind = 'box',title='Оценки счастья\" среди стран (29) региона Центральной и Восточной Европы',grid=True)\n"
      ],
      "execution_count": null,
      "outputs": [
        {
          "output_type": "execute_result",
          "data": {
            "text/plain": [
              "<matplotlib.axes._subplots.AxesSubplot at 0x7fed462665d0>"
            ]
          },
          "metadata": {},
          "execution_count": 12
        },
        {
          "output_type": "display_data",
          "data": {
            "image/png": "[encoded data removed]",
            "text/plain": [
              "<Figure size 432x288 with 1 Axes>"
            ]
          },
          "metadata": {
            "needs_background": "light"
          }
        }
      ]
    },
    {
      "cell_type": "code",
      "metadata": {
        "colab": {
          "base_uri": "https://localhost:8080/"
        },
        "id": "y9L76IxpXPBe",
        "outputId": "12677ac0-3e27-458c-99c8-3c80dfa5da08"
      },
      "source": [
        "# Количество стран региона Центральной и Восточной Европы\n",
        "len(df_Centr.value_counts())"
      ],
      "execution_count": null,
      "outputs": [
        {
          "output_type": "execute_result",
          "data": {
            "text/plain": [
              "29"
            ]
          },
          "metadata": {},
          "execution_count": 13
        }
      ]
    },
    {
      "cell_type": "code",
      "metadata": {
        "colab": {
          "base_uri": "https://localhost:8080/",
          "height": 429
        },
        "id": "Lo04x1Z-aHHU",
        "outputId": "32377bd6-df06-466e-9e2a-26de537cf0b8"
      },
      "source": [
        "# Корреляция критериев оценки(Семья имеет наибольшую корреляцию с \"экономикой\")\n",
        "sns.heatmap(df_region2.corr(), annot = True,fmt='.1g',cmap= 'coolwarm')"
      ],
      "execution_count": null,
      "outputs": [
        {
          "output_type": "execute_result",
          "data": {
            "text/plain": [
              "<matplotlib.axes._subplots.AxesSubplot at 0x7fed45a1e310>"
            ]
          },
          "metadata": {},
          "execution_count": 14
        },
        {
          "output_type": "display_data",
          "data": {
            "image/png": "[encoded data removed]",
            "text/plain": [
              "<Figure size 432x288 with 2 Axes>"
            ]
          },
          "metadata": {
            "needs_background": "light"
          }
        }
      ]
    },
    {
      "cell_type": "code",
      "metadata": {
        "id": "9Ojl70ero94u",
        "colab": {
          "base_uri": "https://localhost:8080/",
          "height": 301
        },
        "outputId": "5b4404b4-d27f-41dc-ad15-7f3b3af5b80c"
      },
      "source": [
        "# Создание гистограммы для 5 лучших стран рейтинга по щедрости\n",
        "# Щедрость не прямо пропорционально рейтингу счастья(оценки счастья)\n",
        "plt.bar(df.head(5)['Country'],df.head(5)['Generosity'])\n",
        "plt.ylabel('Genoriosity', fontsize=15,color='Green')\n",
        "plt.xlabel(\"Country\", fontsize=15,color=\"Blue\")\n"
      ],
      "execution_count": null,
      "outputs": [
        {
          "output_type": "execute_result",
          "data": {
            "text/plain": [
              "Text(0.5, 0, 'Country')"
            ]
          },
          "metadata": {},
          "execution_count": 15
        },
        {
          "output_type": "display_data",
          "data": {
            "image/png": "[encoded data removed]",
            "text/plain": [
              "<Figure size 432x288 with 1 Axes>"
            ]
          },
          "metadata": {
            "needs_background": "light"
          }
        }
      ]
    },
    {
      "cell_type": "code",
      "metadata": {
        "id": "6QEsZj1b6WUN",
        "colab": {
          "base_uri": "https://localhost:8080/",
          "height": 300
        },
        "outputId": "b8b31bdb-4838-4141-e8c3-588a09d218f4"
      },
      "source": [
        "plt.scatter(df[\"Economy (GDP per Capita)\"],df['Happiness Score'])\n",
        "plt.title ('Корреляция ВВП с оценкой счастья')\n",
        "plt.ylabel(\"Оценка счастья\", fontsize=15,color=\"Green\")\n",
        "plt.xlabel(\"ВВП\", fontsize=15,color=\"Blue\")\n",
        "plt.grid()"
      ],
      "execution_count": null,
      "outputs": [
        {
          "output_type": "display_data",
          "data": {
            "image/png": "[encoded data removed]",
            "text/plain": [
              "<Figure size 432x288 with 1 Axes>"
            ]
          },
          "metadata": {
            "needs_background": "light"
          }
        }
      ]
    }
  ]
}