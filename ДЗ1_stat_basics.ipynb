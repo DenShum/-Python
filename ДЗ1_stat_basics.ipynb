{
  "nbformat": 4,
  "nbformat_minor": 0,
  "metadata": {
    "kernelspec": {
      "display_name": "Python 3",
      "language": "python",
      "name": "python3"
    },
    "language_info": {
      "codemirror_mode": {
        "name": "ipython",
        "version": 3
      },
      "file_extension": ".py",
      "mimetype": "text/x-python",
      "name": "python",
      "nbconvert_exporter": "python",
      "pygments_lexer": "ipython3",
      "version": "3.7.7"
    },
    "colab": {
      "name": "ДЗ1_stat_basics.ipynb",
      "provenance": [],
      "collapsed_sections": [],
      "include_colab_link": true
    }
  },
  "cells": [
    {
      "cell_type": "markdown",
      "metadata": {
        "id": "view-in-github",
        "colab_type": "text"
      },
      "source": [
        "<a href=\"https://colab.research.google.com/github/DenShum/Statistics-in-Python/blob/main/%D0%94%D0%971_stat_basics.ipynb\" target=\"_parent\"><img src=\"https://colab.research.google.com/assets/colab-badge.svg\" alt=\"Open In Colab\"/></a>"
      ]
    },
    {
      "cell_type": "markdown",
      "metadata": {
        "id": "R7gNQGPTF9j7"
      },
      "source": [
        "# Домашнее задание к лекции \"Базовые понятия статистики\""
      ]
    },
    {
      "cell_type": "markdown",
      "metadata": {
        "id": "PjrYQe4sF9kI"
      },
      "source": [
        "## Обязательная часть\n",
        "\n",
        "Будем осуществлять работу с непростым [набором данных](https://raw.githubusercontent.com/obulygin/pyda_homeworks/master/statistics_basics/horse_data.csv) о состоянии здоровья лошадей, испытывающих кишечные колики. \n",
        "\n",
        "### Задание 1. Базовое изучение\n",
        "\n",
        "Изучить представленный набор данных на основе [описания его столбцов](https://raw.githubusercontent.com/obulygin/pyda_homeworks/master/statistics_basics/horse_data.names) и выбрать 8 столбцов для дальнейшего изучения (среди них должны быть как числовые, так и категориальные). Провести расчет базовых метрик для них, кратко описать результаты.\n",
        "\n",
        "### Задание 2. Работа с выбросами\n",
        "\n",
        "В выбранных числовых столбцах найти выбросы, выдвинуть гипотезы об их причинах и проинтерпретировать результаты. Принять и обосновать решение о дальнейшей работе с ними.\n",
        "\n",
        "### Задание 3. Работа с пропусками\n",
        "\n",
        "Рассчитать количество выбросов для всех выбранных столбцов. Принять и обосновать решение о методе работы с пропусками по каждому столбцу, сформировать датафрейм, в котором пропуски будут отсутствовать."
      ]
    },
    {
      "cell_type": "markdown",
      "metadata": {
        "id": "sppTst4bF9kP"
      },
      "source": [
        "## Дополнительная часть (необязательная)\n",
        "\n",
        "Выполнить задания 1-3 для всего набора данных."
      ]
    },
    {
      "cell_type": "markdown",
      "metadata": {
        "id": "WVVnVL_UF9kS"
      },
      "source": [
        "#### ПРИМЕЧАНИЕ\n",
        "Домашнее задание сдается ссылкой на репозиторий [GitHub](https://github.com/).\n",
        "Не сможем проверить или помочь, если вы пришлете:\n",
        "- файлы;\n",
        "- архивы;\n",
        "- скриншоты кода.\n",
        "\n",
        "Все обсуждения и консультации по выполнению домашнего задания ведутся только на соответствующем канале в slack.\n",
        "\n",
        "##### Как правильно задавать вопросы аспирантам, преподавателям и коллегам\n",
        "Прежде чем задать вопрос, попробуйте найти ответ в интернете. Навык самостоятельного поиска информации — один из важнейших. Каждый практикующий специалист любого уровня делает это ежедневно.\n",
        "\n",
        "Сформулируйте вопрос по алгоритму:  \n",
        "1) Что я делаю?  \n",
        "2) Какого результата я ожидаю?  \n",
        "3) Как фактический результат отличается от ожидаемого?  \n",
        "4) Что я уже попробовал сделать, чтобы исправить проблему?  \n",
        "\n",
        "По возможности прикрепите к вопросу скриншоты либо ссылки на код. Не выкладывайте все решение, оставляйте только проблемный и воспроизводимый участок кода."
      ]
    },
    {
      "cell_type": "markdown",
      "metadata": {
        "id": "1fZF_EWWtDWm"
      },
      "source": [
        "***Читаем датафрейм, заменяем \"?\" на NaN, переименовываем заголовки и, фильтруя, оставляем в дата фрейме horse_data требуемые по условию задания заголовки***\n"
      ]
    },
    {
      "cell_type": "code",
      "metadata": {
        "colab": {
          "base_uri": "https://localhost:8080/",
          "height": 206
        },
        "id": "-aM0w136JFkA",
        "outputId": "6ada5b10-9e75-40f0-d5ca-7211b0589abd"
      },
      "source": [
        "import pandas as  pd\n",
        "df = pd.read_csv('horse_data.csv',na_values='?')\n",
        "df.columns = ['surgery?','Age','3','rectal_temp','pulse','respiratory_rate','temp_of_extremities','8','9','10','pain','12','13','14','15','16','17','18','19','20','21','22','outcome','24','25','26','27','28']\n",
        "horse_data = df[['surgery?','Age','rectal_temp','pulse','respiratory_rate','temp_of_extremities','pain','outcome']]\n",
        "horse_data.head()"
      ],
      "execution_count": null,
      "outputs": [
        {
          "output_type": "execute_result",
          "data": {
            "text/html": [
              "<div>\n",
              "<style scoped>\n",
              "    .dataframe tbody tr th:only-of-type {\n",
              "        vertical-align: middle;\n",
              "    }\n",
              "\n",
              "    .dataframe tbody tr th {\n",
              "        vertical-align: top;\n",
              "    }\n",
              "\n",
              "    .dataframe thead th {\n",
              "        text-align: right;\n",
              "    }\n",
              "</style>\n",
              "<table border=\"1\" class=\"dataframe\">\n",
              "  <thead>\n",
              "    <tr style=\"text-align: right;\">\n",
              "      <th></th>\n",
              "      <th>surgery?</th>\n",
              "      <th>Age</th>\n",
              "      <th>rectal_temp</th>\n",
              "      <th>pulse</th>\n",
              "      <th>respiratory_rate</th>\n",
              "      <th>temp_of_extremities</th>\n",
              "      <th>pain</th>\n",
              "      <th>outcome</th>\n",
              "    </tr>\n",
              "  </thead>\n",
              "  <tbody>\n",
              "    <tr>\n",
              "      <th>0</th>\n",
              "      <td>1.0</td>\n",
              "      <td>1</td>\n",
              "      <td>39.2</td>\n",
              "      <td>88.0</td>\n",
              "      <td>20.0</td>\n",
              "      <td>NaN</td>\n",
              "      <td>3.0</td>\n",
              "      <td>3.0</td>\n",
              "    </tr>\n",
              "    <tr>\n",
              "      <th>1</th>\n",
              "      <td>2.0</td>\n",
              "      <td>1</td>\n",
              "      <td>38.3</td>\n",
              "      <td>40.0</td>\n",
              "      <td>24.0</td>\n",
              "      <td>1.0</td>\n",
              "      <td>3.0</td>\n",
              "      <td>1.0</td>\n",
              "    </tr>\n",
              "    <tr>\n",
              "      <th>2</th>\n",
              "      <td>1.0</td>\n",
              "      <td>9</td>\n",
              "      <td>39.1</td>\n",
              "      <td>164.0</td>\n",
              "      <td>84.0</td>\n",
              "      <td>4.0</td>\n",
              "      <td>2.0</td>\n",
              "      <td>2.0</td>\n",
              "    </tr>\n",
              "    <tr>\n",
              "      <th>3</th>\n",
              "      <td>2.0</td>\n",
              "      <td>1</td>\n",
              "      <td>37.3</td>\n",
              "      <td>104.0</td>\n",
              "      <td>35.0</td>\n",
              "      <td>NaN</td>\n",
              "      <td>NaN</td>\n",
              "      <td>2.0</td>\n",
              "    </tr>\n",
              "    <tr>\n",
              "      <th>4</th>\n",
              "      <td>2.0</td>\n",
              "      <td>1</td>\n",
              "      <td>NaN</td>\n",
              "      <td>NaN</td>\n",
              "      <td>NaN</td>\n",
              "      <td>2.0</td>\n",
              "      <td>2.0</td>\n",
              "      <td>1.0</td>\n",
              "    </tr>\n",
              "  </tbody>\n",
              "</table>\n",
              "</div>"
            ],
            "text/plain": [
              "   surgery?  Age  rectal_temp  ...  temp_of_extremities  pain  outcome\n",
              "0       1.0    1         39.2  ...                  NaN   3.0      3.0\n",
              "1       2.0    1         38.3  ...                  1.0   3.0      1.0\n",
              "2       1.0    9         39.1  ...                  4.0   2.0      2.0\n",
              "3       2.0    1         37.3  ...                  NaN   NaN      2.0\n",
              "4       2.0    1          NaN  ...                  2.0   2.0      1.0\n",
              "\n",
              "[5 rows x 8 columns]"
            ]
          },
          "metadata": {},
          "execution_count": 1
        }
      ]
    },
    {
      "cell_type": "markdown",
      "metadata": {
        "id": "mQCAz2TvuNUh"
      },
      "source": [
        "Выводим инфомацию по дата фрейму. Меняем типы данных на числовые - видим, что по некоторым колонкам есть пропуски (null). Выводим основные статистические показатели - видим, что есть выбросы:\n",
        "- по Age -\"9\"(по описанию дата фрейма значения могут быть только 1 - взрослая лошадь и 2 - молодые(<6 месяцев)\n",
        "\n",
        "\n",
        "  "
      ]
    },
    {
      "cell_type": "code",
      "metadata": {
        "colab": {
          "base_uri": "https://localhost:8080/",
          "height": 560
        },
        "id": "ig0QMF9qUbsX",
        "outputId": "6e2b91fb-5ba7-4340-de50-6fd1eb447e63"
      },
      "source": [
        "horse_data.info()\n",
        "horse_data = horse_data.apply(pd.to_numeric,errors='coerce')\n",
        "# horse_data.describe(include='all')\n",
        "horse_data.describe().round()"
      ],
      "execution_count": null,
      "outputs": [
        {
          "output_type": "stream",
          "text": [
            "<class 'pandas.core.frame.DataFrame'>\n",
            "RangeIndex: 299 entries, 0 to 298\n",
            "Data columns (total 8 columns):\n",
            " #   Column               Non-Null Count  Dtype  \n",
            "---  ------               --------------  -----  \n",
            " 0   surgery?             298 non-null    float64\n",
            " 1   Age                  299 non-null    int64  \n",
            " 2   rectal_temp          239 non-null    float64\n",
            " 3   pulse                275 non-null    float64\n",
            " 4   respiratory_rate     241 non-null    float64\n",
            " 5   temp_of_extremities  243 non-null    float64\n",
            " 6   pain                 244 non-null    float64\n",
            " 7   outcome              298 non-null    float64\n",
            "dtypes: float64(7), int64(1)\n",
            "memory usage: 18.8 KB\n"
          ],
          "name": "stdout"
        },
        {
          "output_type": "execute_result",
          "data": {
            "text/html": [
              "<div>\n",
              "<style scoped>\n",
              "    .dataframe tbody tr th:only-of-type {\n",
              "        vertical-align: middle;\n",
              "    }\n",
              "\n",
              "    .dataframe tbody tr th {\n",
              "        vertical-align: top;\n",
              "    }\n",
              "\n",
              "    .dataframe thead th {\n",
              "        text-align: right;\n",
              "    }\n",
              "</style>\n",
              "<table border=\"1\" class=\"dataframe\">\n",
              "  <thead>\n",
              "    <tr style=\"text-align: right;\">\n",
              "      <th></th>\n",
              "      <th>surgery?</th>\n",
              "      <th>Age</th>\n",
              "      <th>rectal_temp</th>\n",
              "      <th>pulse</th>\n",
              "      <th>respiratory_rate</th>\n",
              "      <th>temp_of_extremities</th>\n",
              "      <th>pain</th>\n",
              "      <th>outcome</th>\n",
              "    </tr>\n",
              "  </thead>\n",
              "  <tbody>\n",
              "    <tr>\n",
              "      <th>count</th>\n",
              "      <td>298.0</td>\n",
              "      <td>299.0</td>\n",
              "      <td>239.0</td>\n",
              "      <td>275.0</td>\n",
              "      <td>241.0</td>\n",
              "      <td>243.0</td>\n",
              "      <td>244.0</td>\n",
              "      <td>298.0</td>\n",
              "    </tr>\n",
              "    <tr>\n",
              "      <th>mean</th>\n",
              "      <td>1.0</td>\n",
              "      <td>2.0</td>\n",
              "      <td>38.0</td>\n",
              "      <td>72.0</td>\n",
              "      <td>30.0</td>\n",
              "      <td>2.0</td>\n",
              "      <td>3.0</td>\n",
              "      <td>2.0</td>\n",
              "    </tr>\n",
              "    <tr>\n",
              "      <th>std</th>\n",
              "      <td>0.0</td>\n",
              "      <td>2.0</td>\n",
              "      <td>1.0</td>\n",
              "      <td>29.0</td>\n",
              "      <td>18.0</td>\n",
              "      <td>1.0</td>\n",
              "      <td>1.0</td>\n",
              "      <td>1.0</td>\n",
              "    </tr>\n",
              "    <tr>\n",
              "      <th>min</th>\n",
              "      <td>1.0</td>\n",
              "      <td>1.0</td>\n",
              "      <td>35.0</td>\n",
              "      <td>30.0</td>\n",
              "      <td>8.0</td>\n",
              "      <td>1.0</td>\n",
              "      <td>1.0</td>\n",
              "      <td>1.0</td>\n",
              "    </tr>\n",
              "    <tr>\n",
              "      <th>25%</th>\n",
              "      <td>1.0</td>\n",
              "      <td>1.0</td>\n",
              "      <td>38.0</td>\n",
              "      <td>48.0</td>\n",
              "      <td>18.0</td>\n",
              "      <td>1.0</td>\n",
              "      <td>2.0</td>\n",
              "      <td>1.0</td>\n",
              "    </tr>\n",
              "    <tr>\n",
              "      <th>50%</th>\n",
              "      <td>1.0</td>\n",
              "      <td>1.0</td>\n",
              "      <td>38.0</td>\n",
              "      <td>64.0</td>\n",
              "      <td>24.0</td>\n",
              "      <td>3.0</td>\n",
              "      <td>3.0</td>\n",
              "      <td>1.0</td>\n",
              "    </tr>\n",
              "    <tr>\n",
              "      <th>75%</th>\n",
              "      <td>2.0</td>\n",
              "      <td>1.0</td>\n",
              "      <td>38.0</td>\n",
              "      <td>88.0</td>\n",
              "      <td>36.0</td>\n",
              "      <td>3.0</td>\n",
              "      <td>4.0</td>\n",
              "      <td>2.0</td>\n",
              "    </tr>\n",
              "    <tr>\n",
              "      <th>max</th>\n",
              "      <td>2.0</td>\n",
              "      <td>9.0</td>\n",
              "      <td>41.0</td>\n",
              "      <td>184.0</td>\n",
              "      <td>96.0</td>\n",
              "      <td>4.0</td>\n",
              "      <td>5.0</td>\n",
              "      <td>3.0</td>\n",
              "    </tr>\n",
              "  </tbody>\n",
              "</table>\n",
              "</div>"
            ],
            "text/plain": [
              "       surgery?    Age  rectal_temp  ...  temp_of_extremities   pain  outcome\n",
              "count     298.0  299.0        239.0  ...                243.0  244.0    298.0\n",
              "mean        1.0    2.0         38.0  ...                  2.0    3.0      2.0\n",
              "std         0.0    2.0          1.0  ...                  1.0    1.0      1.0\n",
              "min         1.0    1.0         35.0  ...                  1.0    1.0      1.0\n",
              "25%         1.0    1.0         38.0  ...                  1.0    2.0      1.0\n",
              "50%         1.0    1.0         38.0  ...                  3.0    3.0      1.0\n",
              "75%         2.0    1.0         38.0  ...                  3.0    4.0      2.0\n",
              "max         2.0    9.0         41.0  ...                  4.0    5.0      3.0\n",
              "\n",
              "[8 rows x 8 columns]"
            ]
          },
          "metadata": {},
          "execution_count": 2
        }
      ]
    },
    {
      "cell_type": "markdown",
      "metadata": {
        "id": "tPGQlP5NzvZo"
      },
      "source": [
        "***Удаляем выбросы (7.7 % от общего количества данных) по Age  по формуле межквартильного размаха***"
      ]
    },
    {
      "cell_type": "code",
      "metadata": {
        "colab": {
          "base_uri": "https://localhost:8080/"
        },
        "id": "gI7za2FIij6I",
        "outputId": "04a0b60e-af28-412e-c13d-d7311de28c17"
      },
      "source": [
        "q1 = horse_data['Age'].quantile(0.25)\n",
        "q3 = horse_data['Age'].quantile(0.75)\n",
        "iqr = q3 - q1\n",
        "lower_bound = q1 - (1.5 * iqr) \n",
        "upper_bound = q3 + (1.5 * iqr)\n",
        "remove_horse_data = horse_data[horse_data['Age'].between(lower_bound, upper_bound, inclusive=True)]\n",
        "# pd.concat([horse_data, remove_horse_data]).drop_duplicates(keep=False) #выбросы по возрасту\n",
        "# remove_horse_data.describe().round() #проверяем данные после очистки от выбросов по возрасту\n",
        "remove_horse_data.info() # data frame очищенный от выбросов по возрасту"
      ],
      "execution_count": null,
      "outputs": [
        {
          "output_type": "stream",
          "text": [
            "<class 'pandas.core.frame.DataFrame'>\n",
            "Int64Index: 275 entries, 0 to 298\n",
            "Data columns (total 8 columns):\n",
            " #   Column               Non-Null Count  Dtype  \n",
            "---  ------               --------------  -----  \n",
            " 0   surgery?             274 non-null    float64\n",
            " 1   Age                  275 non-null    int64  \n",
            " 2   rectal_temp          219 non-null    float64\n",
            " 3   pulse                253 non-null    float64\n",
            " 4   respiratory_rate     221 non-null    float64\n",
            " 5   temp_of_extremities  227 non-null    float64\n",
            " 6   pain                 227 non-null    float64\n",
            " 7   outcome              274 non-null    float64\n",
            "dtypes: float64(7), int64(1)\n",
            "memory usage: 19.3 KB\n"
          ],
          "name": "stdout"
        }
      ]
    },
    {
      "cell_type": "code",
      "metadata": {
        "colab": {
          "base_uri": "https://localhost:8080/"
        },
        "id": "1rrI7EjqwT5I",
        "outputId": "77386ab6-9405-4234-de24-fc2e0b0f9636"
      },
      "source": [
        "(remove_horse_data.isna().mean()*100).round(2) # % пропусков по колонкам"
      ],
      "execution_count": null,
      "outputs": [
        {
          "output_type": "execute_result",
          "data": {
            "text/plain": [
              "surgery?                0.36\n",
              "Age                     0.00\n",
              "rectal_temp            20.36\n",
              "pulse                   8.00\n",
              "respiratory_rate       19.64\n",
              "temp_of_extremities    17.45\n",
              "pain                   17.45\n",
              "outcome                 0.36\n",
              "dtype: float64"
            ]
          },
          "metadata": {},
          "execution_count": 4
        }
      ]
    },
    {
      "cell_type": "code",
      "metadata": {
        "colab": {
          "base_uri": "https://localhost:8080/",
          "height": 300
        },
        "id": "Wa3-qBGH5t5g",
        "outputId": "3f2cfda5-4a35-4a21-971e-11eca493059e"
      },
      "source": [
        "remove_horse_data.describe().round() #статистические показатели при наличии пропусков"
      ],
      "execution_count": null,
      "outputs": [
        {
          "output_type": "execute_result",
          "data": {
            "text/html": [
              "<div>\n",
              "<style scoped>\n",
              "    .dataframe tbody tr th:only-of-type {\n",
              "        vertical-align: middle;\n",
              "    }\n",
              "\n",
              "    .dataframe tbody tr th {\n",
              "        vertical-align: top;\n",
              "    }\n",
              "\n",
              "    .dataframe thead th {\n",
              "        text-align: right;\n",
              "    }\n",
              "</style>\n",
              "<table border=\"1\" class=\"dataframe\">\n",
              "  <thead>\n",
              "    <tr style=\"text-align: right;\">\n",
              "      <th></th>\n",
              "      <th>surgery?</th>\n",
              "      <th>Age</th>\n",
              "      <th>rectal_temp</th>\n",
              "      <th>pulse</th>\n",
              "      <th>respiratory_rate</th>\n",
              "      <th>temp_of_extremities</th>\n",
              "      <th>pain</th>\n",
              "      <th>outcome</th>\n",
              "    </tr>\n",
              "  </thead>\n",
              "  <tbody>\n",
              "    <tr>\n",
              "      <th>count</th>\n",
              "      <td>274.0</td>\n",
              "      <td>275.0</td>\n",
              "      <td>219.0</td>\n",
              "      <td>253.0</td>\n",
              "      <td>221.0</td>\n",
              "      <td>227.0</td>\n",
              "      <td>227.0</td>\n",
              "      <td>274.0</td>\n",
              "    </tr>\n",
              "    <tr>\n",
              "      <th>mean</th>\n",
              "      <td>1.0</td>\n",
              "      <td>1.0</td>\n",
              "      <td>38.0</td>\n",
              "      <td>67.0</td>\n",
              "      <td>28.0</td>\n",
              "      <td>2.0</td>\n",
              "      <td>3.0</td>\n",
              "      <td>2.0</td>\n",
              "    </tr>\n",
              "    <tr>\n",
              "      <th>std</th>\n",
              "      <td>0.0</td>\n",
              "      <td>0.0</td>\n",
              "      <td>1.0</td>\n",
              "      <td>24.0</td>\n",
              "      <td>15.0</td>\n",
              "      <td>1.0</td>\n",
              "      <td>1.0</td>\n",
              "      <td>1.0</td>\n",
              "    </tr>\n",
              "    <tr>\n",
              "      <th>min</th>\n",
              "      <td>1.0</td>\n",
              "      <td>1.0</td>\n",
              "      <td>35.0</td>\n",
              "      <td>30.0</td>\n",
              "      <td>8.0</td>\n",
              "      <td>1.0</td>\n",
              "      <td>1.0</td>\n",
              "      <td>1.0</td>\n",
              "    </tr>\n",
              "    <tr>\n",
              "      <th>25%</th>\n",
              "      <td>1.0</td>\n",
              "      <td>1.0</td>\n",
              "      <td>38.0</td>\n",
              "      <td>48.0</td>\n",
              "      <td>18.0</td>\n",
              "      <td>1.0</td>\n",
              "      <td>2.0</td>\n",
              "      <td>1.0</td>\n",
              "    </tr>\n",
              "    <tr>\n",
              "      <th>50%</th>\n",
              "      <td>1.0</td>\n",
              "      <td>1.0</td>\n",
              "      <td>38.0</td>\n",
              "      <td>60.0</td>\n",
              "      <td>24.0</td>\n",
              "      <td>3.0</td>\n",
              "      <td>3.0</td>\n",
              "      <td>1.0</td>\n",
              "    </tr>\n",
              "    <tr>\n",
              "      <th>75%</th>\n",
              "      <td>2.0</td>\n",
              "      <td>1.0</td>\n",
              "      <td>38.0</td>\n",
              "      <td>84.0</td>\n",
              "      <td>36.0</td>\n",
              "      <td>3.0</td>\n",
              "      <td>4.0</td>\n",
              "      <td>2.0</td>\n",
              "    </tr>\n",
              "    <tr>\n",
              "      <th>max</th>\n",
              "      <td>2.0</td>\n",
              "      <td>1.0</td>\n",
              "      <td>41.0</td>\n",
              "      <td>140.0</td>\n",
              "      <td>96.0</td>\n",
              "      <td>4.0</td>\n",
              "      <td>5.0</td>\n",
              "      <td>3.0</td>\n",
              "    </tr>\n",
              "  </tbody>\n",
              "</table>\n",
              "</div>"
            ],
            "text/plain": [
              "       surgery?    Age  rectal_temp  ...  temp_of_extremities   pain  outcome\n",
              "count     274.0  275.0        219.0  ...                227.0  227.0    274.0\n",
              "mean        1.0    1.0         38.0  ...                  2.0    3.0      2.0\n",
              "std         0.0    0.0          1.0  ...                  1.0    1.0      1.0\n",
              "min         1.0    1.0         35.0  ...                  1.0    1.0      1.0\n",
              "25%         1.0    1.0         38.0  ...                  1.0    2.0      1.0\n",
              "50%         1.0    1.0         38.0  ...                  3.0    3.0      1.0\n",
              "75%         2.0    1.0         38.0  ...                  3.0    4.0      2.0\n",
              "max         2.0    1.0         41.0  ...                  4.0    5.0      3.0\n",
              "\n",
              "[8 rows x 8 columns]"
            ]
          },
          "metadata": {},
          "execution_count": 5
        }
      ]
    },
    {
      "cell_type": "markdown",
      "metadata": {
        "id": "i_wHy3CV5iu_"
      },
      "source": [
        "***В категориальных столбцах: 'surgery?', 'outcome', 'temp_of_extremities', 'pain' - пропуски заменяем модальным значением***"
      ]
    },
    {
      "cell_type": "code",
      "metadata": {
        "id": "oqZ6XDli6qud",
        "colab": {
          "base_uri": "https://localhost:8080/",
          "height": 407
        },
        "outputId": "4cce95b2-b655-41c6-bc1f-7c3c3891b7c5"
      },
      "source": [
        "remove_horse_data['surgery?'].fillna(remove_horse_data['surgery?'].mode()[0],inplace=True) # замена пропусков в surgery? - модой\n",
        "# print(remove_horse_data['surgery?'].isna().sum()) #проверяем наличие NaN в колонке surgery?\n",
        "# remove_horse_data['surgery?'].describe().round() # статистика по surgery? не изменилась, пропусков нет\n",
        "remove_horse_data['outcome'].fillna(remove_horse_data['outcome'].mode()[0],inplace=True) # замена пропусков в outcome - модой\n",
        "remove_horse_data['pain'].fillna(remove_horse_data['pain'].mode()[0],inplace=True)\n",
        "remove_horse_data['temp_of_extremities'].fillna(remove_horse_data['temp_of_extremities'].mode()[0],inplace=True)\n",
        "remove_horse_data.describe().round()\n"
      ],
      "execution_count": null,
      "outputs": [
        {
          "output_type": "stream",
          "text": [
            "/usr/local/lib/python3.7/dist-packages/pandas/core/series.py:4536: SettingWithCopyWarning: \n",
            "A value is trying to be set on a copy of a slice from a DataFrame\n",
            "\n",
            "See the caveats in the documentation: https://pandas.pydata.org/pandas-docs/stable/user_guide/indexing.html#returning-a-view-versus-a-copy\n",
            "  downcast=downcast,\n"
          ],
          "name": "stderr"
        },
        {
          "output_type": "execute_result",
          "data": {
            "text/html": [
              "<div>\n",
              "<style scoped>\n",
              "    .dataframe tbody tr th:only-of-type {\n",
              "        vertical-align: middle;\n",
              "    }\n",
              "\n",
              "    .dataframe tbody tr th {\n",
              "        vertical-align: top;\n",
              "    }\n",
              "\n",
              "    .dataframe thead th {\n",
              "        text-align: right;\n",
              "    }\n",
              "</style>\n",
              "<table border=\"1\" class=\"dataframe\">\n",
              "  <thead>\n",
              "    <tr style=\"text-align: right;\">\n",
              "      <th></th>\n",
              "      <th>surgery?</th>\n",
              "      <th>Age</th>\n",
              "      <th>rectal_temp</th>\n",
              "      <th>pulse</th>\n",
              "      <th>respiratory_rate</th>\n",
              "      <th>temp_of_extremities</th>\n",
              "      <th>pain</th>\n",
              "      <th>outcome</th>\n",
              "    </tr>\n",
              "  </thead>\n",
              "  <tbody>\n",
              "    <tr>\n",
              "      <th>count</th>\n",
              "      <td>275.0</td>\n",
              "      <td>275.0</td>\n",
              "      <td>219.0</td>\n",
              "      <td>253.0</td>\n",
              "      <td>221.0</td>\n",
              "      <td>275.0</td>\n",
              "      <td>275.0</td>\n",
              "      <td>275.0</td>\n",
              "    </tr>\n",
              "    <tr>\n",
              "      <th>mean</th>\n",
              "      <td>1.0</td>\n",
              "      <td>1.0</td>\n",
              "      <td>38.0</td>\n",
              "      <td>67.0</td>\n",
              "      <td>28.0</td>\n",
              "      <td>2.0</td>\n",
              "      <td>3.0</td>\n",
              "      <td>2.0</td>\n",
              "    </tr>\n",
              "    <tr>\n",
              "      <th>std</th>\n",
              "      <td>0.0</td>\n",
              "      <td>0.0</td>\n",
              "      <td>1.0</td>\n",
              "      <td>24.0</td>\n",
              "      <td>15.0</td>\n",
              "      <td>1.0</td>\n",
              "      <td>1.0</td>\n",
              "      <td>1.0</td>\n",
              "    </tr>\n",
              "    <tr>\n",
              "      <th>min</th>\n",
              "      <td>1.0</td>\n",
              "      <td>1.0</td>\n",
              "      <td>35.0</td>\n",
              "      <td>30.0</td>\n",
              "      <td>8.0</td>\n",
              "      <td>1.0</td>\n",
              "      <td>1.0</td>\n",
              "      <td>1.0</td>\n",
              "    </tr>\n",
              "    <tr>\n",
              "      <th>25%</th>\n",
              "      <td>1.0</td>\n",
              "      <td>1.0</td>\n",
              "      <td>38.0</td>\n",
              "      <td>48.0</td>\n",
              "      <td>18.0</td>\n",
              "      <td>1.0</td>\n",
              "      <td>2.0</td>\n",
              "      <td>1.0</td>\n",
              "    </tr>\n",
              "    <tr>\n",
              "      <th>50%</th>\n",
              "      <td>1.0</td>\n",
              "      <td>1.0</td>\n",
              "      <td>38.0</td>\n",
              "      <td>60.0</td>\n",
              "      <td>24.0</td>\n",
              "      <td>3.0</td>\n",
              "      <td>3.0</td>\n",
              "      <td>1.0</td>\n",
              "    </tr>\n",
              "    <tr>\n",
              "      <th>75%</th>\n",
              "      <td>2.0</td>\n",
              "      <td>1.0</td>\n",
              "      <td>38.0</td>\n",
              "      <td>84.0</td>\n",
              "      <td>36.0</td>\n",
              "      <td>3.0</td>\n",
              "      <td>4.0</td>\n",
              "      <td>2.0</td>\n",
              "    </tr>\n",
              "    <tr>\n",
              "      <th>max</th>\n",
              "      <td>2.0</td>\n",
              "      <td>1.0</td>\n",
              "      <td>41.0</td>\n",
              "      <td>140.0</td>\n",
              "      <td>96.0</td>\n",
              "      <td>4.0</td>\n",
              "      <td>5.0</td>\n",
              "      <td>3.0</td>\n",
              "    </tr>\n",
              "  </tbody>\n",
              "</table>\n",
              "</div>"
            ],
            "text/plain": [
              "       surgery?    Age  rectal_temp  ...  temp_of_extremities   pain  outcome\n",
              "count     275.0  275.0        219.0  ...                275.0  275.0    275.0\n",
              "mean        1.0    1.0         38.0  ...                  2.0    3.0      2.0\n",
              "std         0.0    0.0          1.0  ...                  1.0    1.0      1.0\n",
              "min         1.0    1.0         35.0  ...                  1.0    1.0      1.0\n",
              "25%         1.0    1.0         38.0  ...                  1.0    2.0      1.0\n",
              "50%         1.0    1.0         38.0  ...                  3.0    3.0      1.0\n",
              "75%         2.0    1.0         38.0  ...                  3.0    4.0      2.0\n",
              "max         2.0    1.0         41.0  ...                  4.0    5.0      3.0\n",
              "\n",
              "[8 rows x 8 columns]"
            ]
          },
          "metadata": {},
          "execution_count": 13
        }
      ]
    },
    {
      "cell_type": "markdown",
      "metadata": {
        "id": "tYn8ORLp7pUI"
      },
      "source": [
        "***Проверяем медианное значение  ректальной температуры, группируя по 'surgery?','pain'***"
      ]
    },
    {
      "cell_type": "code",
      "metadata": {
        "colab": {
          "base_uri": "https://localhost:8080/"
        },
        "id": "WW8pTQ3xALJd",
        "outputId": "d80ed201-b277-406d-ef90-8b77e56fcc62"
      },
      "source": [
        "\n",
        "print(remove_horse_data.groupby(['surgery?','pain'])['rectal_temp'].median())\n"
      ],
      "execution_count": null,
      "outputs": [
        {
          "output_type": "stream",
          "text": [
            "surgery?  pain\n",
            "1.0       1.0     38.10\n",
            "          2.0     38.30\n",
            "          3.0     38.15\n",
            "          4.0     38.05\n",
            "          5.0     38.00\n",
            "2.0       1.0     38.30\n",
            "          2.0     38.30\n",
            "          3.0     38.00\n",
            "          4.0     37.90\n",
            "          5.0     38.60\n",
            "Name: rectal_temp, dtype: float64\n"
          ],
          "name": "stdout"
        }
      ]
    },
    {
      "cell_type": "markdown",
      "metadata": {
        "id": "J2Kt8-WeUpks"
      },
      "source": [
        "***Заменяем пропущенные значения в rectal_temp медианными значениями соответственно столбцам surgery? и pain***"
      ]
    },
    {
      "cell_type": "code",
      "metadata": {
        "id": "n4yM7qoKS3dQ"
      },
      "source": [
        "remove_horse_data['rectal_temp'].fillna(remove_horse_data.groupby(['surgery?','pain'])['rectal_temp'].transform('median'),inplace=True)"
      ],
      "execution_count": null,
      "outputs": []
    },
    {
      "cell_type": "markdown",
      "metadata": {
        "id": "-xLlNx2GVQpz"
      },
      "source": [
        "***Проверяем медианное значение  пульса и частоты дыхания, группируя по 'surgery?','pain'***"
      ]
    },
    {
      "cell_type": "code",
      "metadata": {
        "colab": {
          "base_uri": "https://localhost:8080/"
        },
        "id": "_WQnXpCEVnJ1",
        "outputId": "8d9e1949-eba6-4122-b3ea-e8cc32d869d6"
      },
      "source": [
        "print(remove_horse_data.groupby(['surgery?','pain'])['pulse'].median())\n",
        "print(remove_horse_data.groupby(['surgery?','pain'])['respiratory_rate'].median())"
      ],
      "execution_count": null,
      "outputs": [
        {
          "output_type": "stream",
          "text": [
            "surgery?  pain\n",
            "1.0       1.0     48.0\n",
            "          2.0     80.0\n",
            "          3.0     60.0\n",
            "          4.0     70.0\n",
            "          5.0     80.0\n",
            "2.0       1.0     48.0\n",
            "          2.0     60.0\n",
            "          3.0     52.0\n",
            "          4.0     83.0\n",
            "          5.0     96.0\n",
            "Name: pulse, dtype: float64\n",
            "surgery?  pain\n",
            "1.0       1.0     16.0\n",
            "          2.0     36.0\n",
            "          3.0     24.0\n",
            "          4.0     30.0\n",
            "          5.0     30.0\n",
            "2.0       1.0     20.0\n",
            "          2.0     20.0\n",
            "          3.0     25.0\n",
            "          4.0     24.5\n",
            "          5.0     28.0\n",
            "Name: respiratory_rate, dtype: float64\n"
          ],
          "name": "stdout"
        }
      ]
    },
    {
      "cell_type": "markdown",
      "metadata": {
        "id": "NWEu_9aHWGuW"
      },
      "source": [
        "***Заменяем пропущенные значения в pulse и respiratory_rate медианными значениями соответственно столбцам surgery? и pain***"
      ]
    },
    {
      "cell_type": "code",
      "metadata": {
        "colab": {
          "base_uri": "https://localhost:8080/"
        },
        "id": "4q5FVG90WdEa",
        "outputId": "dfcfc981-c0a3-4899-89ee-7712ff777353"
      },
      "source": [
        "remove_horse_data['pulse'].fillna(remove_horse_data.groupby(['surgery?','pain'])['pulse'].transform('median'),inplace=True)\n",
        "remove_horse_data['respiratory_rate'].fillna(remove_horse_data.groupby(['surgery?','pain'])['respiratory_rate'].transform('median'),inplace=True)"
      ],
      "execution_count": null,
      "outputs": [
        {
          "output_type": "stream",
          "text": [
            "/usr/local/lib/python3.7/dist-packages/pandas/core/series.py:4536: SettingWithCopyWarning: \n",
            "A value is trying to be set on a copy of a slice from a DataFrame\n",
            "\n",
            "See the caveats in the documentation: https://pandas.pydata.org/pandas-docs/stable/user_guide/indexing.html#returning-a-view-versus-a-copy\n",
            "  downcast=downcast,\n"
          ],
          "name": "stderr"
        }
      ]
    },
    {
      "cell_type": "code",
      "metadata": {
        "colab": {
          "base_uri": "https://localhost:8080/",
          "height": 560
        },
        "id": "OgamaNTOFf_d",
        "outputId": "cf431d49-7391-4f54-b41f-762c373b9d4a"
      },
      "source": [
        "remove_horse_data.info() # пропусков нет\n",
        "remove_horse_data.describe().round()\n"
      ],
      "execution_count": null,
      "outputs": [
        {
          "output_type": "stream",
          "text": [
            "<class 'pandas.core.frame.DataFrame'>\n",
            "Int64Index: 275 entries, 0 to 298\n",
            "Data columns (total 8 columns):\n",
            " #   Column               Non-Null Count  Dtype  \n",
            "---  ------               --------------  -----  \n",
            " 0   surgery?             275 non-null    float64\n",
            " 1   Age                  275 non-null    int64  \n",
            " 2   rectal_temp          275 non-null    float64\n",
            " 3   pulse                275 non-null    float64\n",
            " 4   respiratory_rate     275 non-null    float64\n",
            " 5   temp_of_extremities  275 non-null    float64\n",
            " 6   pain                 275 non-null    float64\n",
            " 7   outcome              275 non-null    float64\n",
            "dtypes: float64(7), int64(1)\n",
            "memory usage: 19.3 KB\n"
          ],
          "name": "stdout"
        },
        {
          "output_type": "execute_result",
          "data": {
            "text/html": [
              "<div>\n",
              "<style scoped>\n",
              "    .dataframe tbody tr th:only-of-type {\n",
              "        vertical-align: middle;\n",
              "    }\n",
              "\n",
              "    .dataframe tbody tr th {\n",
              "        vertical-align: top;\n",
              "    }\n",
              "\n",
              "    .dataframe thead th {\n",
              "        text-align: right;\n",
              "    }\n",
              "</style>\n",
              "<table border=\"1\" class=\"dataframe\">\n",
              "  <thead>\n",
              "    <tr style=\"text-align: right;\">\n",
              "      <th></th>\n",
              "      <th>surgery?</th>\n",
              "      <th>Age</th>\n",
              "      <th>rectal_temp</th>\n",
              "      <th>pulse</th>\n",
              "      <th>respiratory_rate</th>\n",
              "      <th>temp_of_extremities</th>\n",
              "      <th>pain</th>\n",
              "      <th>outcome</th>\n",
              "    </tr>\n",
              "  </thead>\n",
              "  <tbody>\n",
              "    <tr>\n",
              "      <th>count</th>\n",
              "      <td>275.0</td>\n",
              "      <td>275.0</td>\n",
              "      <td>275.0</td>\n",
              "      <td>275.0</td>\n",
              "      <td>275.0</td>\n",
              "      <td>275.0</td>\n",
              "      <td>275.0</td>\n",
              "      <td>275.0</td>\n",
              "    </tr>\n",
              "    <tr>\n",
              "      <th>mean</th>\n",
              "      <td>1.0</td>\n",
              "      <td>1.0</td>\n",
              "      <td>38.0</td>\n",
              "      <td>67.0</td>\n",
              "      <td>28.0</td>\n",
              "      <td>2.0</td>\n",
              "      <td>3.0</td>\n",
              "      <td>2.0</td>\n",
              "    </tr>\n",
              "    <tr>\n",
              "      <th>std</th>\n",
              "      <td>0.0</td>\n",
              "      <td>0.0</td>\n",
              "      <td>1.0</td>\n",
              "      <td>23.0</td>\n",
              "      <td>14.0</td>\n",
              "      <td>1.0</td>\n",
              "      <td>1.0</td>\n",
              "      <td>1.0</td>\n",
              "    </tr>\n",
              "    <tr>\n",
              "      <th>min</th>\n",
              "      <td>1.0</td>\n",
              "      <td>1.0</td>\n",
              "      <td>35.0</td>\n",
              "      <td>30.0</td>\n",
              "      <td>8.0</td>\n",
              "      <td>1.0</td>\n",
              "      <td>1.0</td>\n",
              "      <td>1.0</td>\n",
              "    </tr>\n",
              "    <tr>\n",
              "      <th>25%</th>\n",
              "      <td>1.0</td>\n",
              "      <td>1.0</td>\n",
              "      <td>38.0</td>\n",
              "      <td>48.0</td>\n",
              "      <td>20.0</td>\n",
              "      <td>1.0</td>\n",
              "      <td>2.0</td>\n",
              "      <td>1.0</td>\n",
              "    </tr>\n",
              "    <tr>\n",
              "      <th>50%</th>\n",
              "      <td>1.0</td>\n",
              "      <td>1.0</td>\n",
              "      <td>38.0</td>\n",
              "      <td>60.0</td>\n",
              "      <td>24.0</td>\n",
              "      <td>3.0</td>\n",
              "      <td>3.0</td>\n",
              "      <td>1.0</td>\n",
              "    </tr>\n",
              "    <tr>\n",
              "      <th>75%</th>\n",
              "      <td>2.0</td>\n",
              "      <td>1.0</td>\n",
              "      <td>38.0</td>\n",
              "      <td>84.0</td>\n",
              "      <td>32.0</td>\n",
              "      <td>3.0</td>\n",
              "      <td>4.0</td>\n",
              "      <td>2.0</td>\n",
              "    </tr>\n",
              "    <tr>\n",
              "      <th>max</th>\n",
              "      <td>2.0</td>\n",
              "      <td>1.0</td>\n",
              "      <td>41.0</td>\n",
              "      <td>140.0</td>\n",
              "      <td>96.0</td>\n",
              "      <td>4.0</td>\n",
              "      <td>5.0</td>\n",
              "      <td>3.0</td>\n",
              "    </tr>\n",
              "  </tbody>\n",
              "</table>\n",
              "</div>"
            ],
            "text/plain": [
              "       surgery?    Age  rectal_temp  ...  temp_of_extremities   pain  outcome\n",
              "count     275.0  275.0        275.0  ...                275.0  275.0    275.0\n",
              "mean        1.0    1.0         38.0  ...                  2.0    3.0      2.0\n",
              "std         0.0    0.0          1.0  ...                  1.0    1.0      1.0\n",
              "min         1.0    1.0         35.0  ...                  1.0    1.0      1.0\n",
              "25%         1.0    1.0         38.0  ...                  1.0    2.0      1.0\n",
              "50%         1.0    1.0         38.0  ...                  3.0    3.0      1.0\n",
              "75%         2.0    1.0         38.0  ...                  3.0    4.0      2.0\n",
              "max         2.0    1.0         41.0  ...                  4.0    5.0      3.0\n",
              "\n",
              "[8 rows x 8 columns]"
            ]
          },
          "metadata": {},
          "execution_count": 22
        }
      ]
    },
    {
      "cell_type": "code",
      "metadata": {
        "colab": {
          "base_uri": "https://localhost:8080/",
          "height": 363
        },
        "id": "_RimL2VQUL01",
        "outputId": "2bfb0409-bb48-4cb7-9e97-730d9f40c612"
      },
      "source": [
        "remove_horse_data.head(10)\n"
      ],
      "execution_count": null,
      "outputs": [
        {
          "output_type": "execute_result",
          "data": {
            "text/html": [
              "<div>\n",
              "<style scoped>\n",
              "    .dataframe tbody tr th:only-of-type {\n",
              "        vertical-align: middle;\n",
              "    }\n",
              "\n",
              "    .dataframe tbody tr th {\n",
              "        vertical-align: top;\n",
              "    }\n",
              "\n",
              "    .dataframe thead th {\n",
              "        text-align: right;\n",
              "    }\n",
              "</style>\n",
              "<table border=\"1\" class=\"dataframe\">\n",
              "  <thead>\n",
              "    <tr style=\"text-align: right;\">\n",
              "      <th></th>\n",
              "      <th>surgery?</th>\n",
              "      <th>Age</th>\n",
              "      <th>rectal_temp</th>\n",
              "      <th>pulse</th>\n",
              "      <th>respiratory_rate</th>\n",
              "      <th>temp_of_extremities</th>\n",
              "      <th>pain</th>\n",
              "      <th>outcome</th>\n",
              "    </tr>\n",
              "  </thead>\n",
              "  <tbody>\n",
              "    <tr>\n",
              "      <th>0</th>\n",
              "      <td>1.0</td>\n",
              "      <td>1</td>\n",
              "      <td>39.20</td>\n",
              "      <td>88.0</td>\n",
              "      <td>20.0</td>\n",
              "      <td>3.0</td>\n",
              "      <td>3.0</td>\n",
              "      <td>3.0</td>\n",
              "    </tr>\n",
              "    <tr>\n",
              "      <th>1</th>\n",
              "      <td>2.0</td>\n",
              "      <td>1</td>\n",
              "      <td>38.30</td>\n",
              "      <td>40.0</td>\n",
              "      <td>24.0</td>\n",
              "      <td>1.0</td>\n",
              "      <td>3.0</td>\n",
              "      <td>1.0</td>\n",
              "    </tr>\n",
              "    <tr>\n",
              "      <th>3</th>\n",
              "      <td>2.0</td>\n",
              "      <td>1</td>\n",
              "      <td>37.30</td>\n",
              "      <td>104.0</td>\n",
              "      <td>35.0</td>\n",
              "      <td>3.0</td>\n",
              "      <td>3.0</td>\n",
              "      <td>2.0</td>\n",
              "    </tr>\n",
              "    <tr>\n",
              "      <th>4</th>\n",
              "      <td>2.0</td>\n",
              "      <td>1</td>\n",
              "      <td>38.30</td>\n",
              "      <td>60.0</td>\n",
              "      <td>20.0</td>\n",
              "      <td>2.0</td>\n",
              "      <td>2.0</td>\n",
              "      <td>1.0</td>\n",
              "    </tr>\n",
              "    <tr>\n",
              "      <th>5</th>\n",
              "      <td>1.0</td>\n",
              "      <td>1</td>\n",
              "      <td>37.90</td>\n",
              "      <td>48.0</td>\n",
              "      <td>16.0</td>\n",
              "      <td>1.0</td>\n",
              "      <td>3.0</td>\n",
              "      <td>1.0</td>\n",
              "    </tr>\n",
              "    <tr>\n",
              "      <th>6</th>\n",
              "      <td>1.0</td>\n",
              "      <td>1</td>\n",
              "      <td>38.15</td>\n",
              "      <td>60.0</td>\n",
              "      <td>24.0</td>\n",
              "      <td>3.0</td>\n",
              "      <td>3.0</td>\n",
              "      <td>2.0</td>\n",
              "    </tr>\n",
              "    <tr>\n",
              "      <th>7</th>\n",
              "      <td>2.0</td>\n",
              "      <td>1</td>\n",
              "      <td>37.90</td>\n",
              "      <td>80.0</td>\n",
              "      <td>36.0</td>\n",
              "      <td>3.0</td>\n",
              "      <td>4.0</td>\n",
              "      <td>3.0</td>\n",
              "    </tr>\n",
              "    <tr>\n",
              "      <th>9</th>\n",
              "      <td>1.0</td>\n",
              "      <td>1</td>\n",
              "      <td>38.10</td>\n",
              "      <td>66.0</td>\n",
              "      <td>12.0</td>\n",
              "      <td>3.0</td>\n",
              "      <td>3.0</td>\n",
              "      <td>1.0</td>\n",
              "    </tr>\n",
              "    <tr>\n",
              "      <th>10</th>\n",
              "      <td>2.0</td>\n",
              "      <td>1</td>\n",
              "      <td>39.10</td>\n",
              "      <td>72.0</td>\n",
              "      <td>52.0</td>\n",
              "      <td>2.0</td>\n",
              "      <td>2.0</td>\n",
              "      <td>1.0</td>\n",
              "    </tr>\n",
              "    <tr>\n",
              "      <th>11</th>\n",
              "      <td>1.0</td>\n",
              "      <td>1</td>\n",
              "      <td>37.20</td>\n",
              "      <td>42.0</td>\n",
              "      <td>12.0</td>\n",
              "      <td>2.0</td>\n",
              "      <td>3.0</td>\n",
              "      <td>1.0</td>\n",
              "    </tr>\n",
              "  </tbody>\n",
              "</table>\n",
              "</div>"
            ],
            "text/plain": [
              "    surgery?  Age  rectal_temp  ...  temp_of_extremities  pain  outcome\n",
              "0        1.0    1        39.20  ...                  3.0   3.0      3.0\n",
              "1        2.0    1        38.30  ...                  1.0   3.0      1.0\n",
              "3        2.0    1        37.30  ...                  3.0   3.0      2.0\n",
              "4        2.0    1        38.30  ...                  2.0   2.0      1.0\n",
              "5        1.0    1        37.90  ...                  1.0   3.0      1.0\n",
              "6        1.0    1        38.15  ...                  3.0   3.0      2.0\n",
              "7        2.0    1        37.90  ...                  3.0   4.0      3.0\n",
              "9        1.0    1        38.10  ...                  3.0   3.0      1.0\n",
              "10       2.0    1        39.10  ...                  2.0   2.0      1.0\n",
              "11       1.0    1        37.20  ...                  2.0   3.0      1.0\n",
              "\n",
              "[10 rows x 8 columns]"
            ]
          },
          "metadata": {},
          "execution_count": 23
        }
      ]
    }
  ]
}