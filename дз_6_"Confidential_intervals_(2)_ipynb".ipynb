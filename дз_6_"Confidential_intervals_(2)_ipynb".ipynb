{
  "nbformat": 4,
  "nbformat_minor": 0,
  "metadata": {
    "kernelspec": {
      "display_name": "Python 3",
      "language": "python",
      "name": "python3"
    },
    "language_info": {
      "codemirror_mode": {
        "name": "ipython",
        "version": 3
      },
      "file_extension": ".py",
      "mimetype": "text/x-python",
      "name": "python",
      "nbconvert_exporter": "python",
      "pygments_lexer": "ipython3",
      "version": "3.8.5"
    },
    "toc": {
      "base_numbering": 1,
      "nav_menu": {},
      "number_sections": true,
      "sideBar": true,
      "skip_h1_title": false,
      "title_cell": "Table of Contents",
      "title_sidebar": "Contents",
      "toc_cell": false,
      "toc_position": {},
      "toc_section_display": true,
      "toc_window_display": false
    },
    "colab": {
      "name": "дз_6 \"Confidential_intervals (2).ipynb\"",
      "provenance": [],
      "collapsed_sections": [
        "eMoHuWOqy_PS",
        "QWYC_Rowy_PZ",
        "q7cDvgoRy_Pn",
        "NejqJstpy_Po",
        "OHj_FlkHy_Pz",
        "W6Sy1Xqiy_QE",
        "0ES7JTJqy_Qu",
        "rw3SkavMy_Q9",
        "Kq0pabHqy_Re",
        "GjkWE5r8y_Rs"
      ],
      "include_colab_link": true
    }
  },
  "cells": [
    {
      "cell_type": "markdown",
      "metadata": {
        "id": "view-in-github",
        "colab_type": "text"
      },
      "source": [
        "<a href=\"https://colab.research.google.com/github/DenShum/Statistics-in-Python/blob/main/%D0%B4%D0%B7_6_%22Confidential_intervals_(2)_ipynb%22.ipynb\" target=\"_parent\"><img src=\"https://colab.research.google.com/assets/colab-badge.svg\" alt=\"Open In Colab\"/></a>"
      ]
    },
    {
      "cell_type": "code",
      "metadata": {
        "id": "FQfD9f7iy_Nz"
      },
      "source": [
        "# !pip install scipy"
      ],
      "execution_count": null,
      "outputs": []
    },
    {
      "cell_type": "code",
      "metadata": {
        "scrolled": true,
        "id": "Jv02HZssy_Oa"
      },
      "source": [
        "import numpy as np  \n",
        "import pandas as pd  # для работы с таблицами\n",
        "from scipy import stats # При работе со статистикой\n",
        "import matplotlib.pyplot as plt  # Библиотека для визуализации результатов \n",
        "\n",
        "import seaborn as sns # Более продвинутая библиотека для визуализации"
      ],
      "execution_count": null,
      "outputs": []
    },
    {
      "cell_type": "code",
      "metadata": {
        "id": "_pzcn8dly_Ou"
      },
      "source": [
        "#Вспомогательная функция для подсчета доверительного интервала\n",
        "# https://stackoverflow.com/questions/15033511/compute-a-confidence-interval-from-sample-data\n",
        "\n",
        "def mean_confidence_interval(data, confidence=0.95): #Сложный пример реализации. Проще смотри в лекци. \n",
        "    n = len(data)\n",
        "    m, se = np.mean(data), stats.sem(data) # scipy.stats.sem () исп-тся для вычисл. станд. ошибки среднего знач. входных данных\n",
        "    h = se * stats.t.ppf((1 + confidence)/2, n)  #  Δ (функция ppf из scipy возвращает нам перцентиль) \n",
        "    return m-h, m, m+h "
      ],
      "execution_count": null,
      "outputs": []
    },
    {
      "cell_type": "code",
      "metadata": {
        "id": "zlhzZvR2y_Ov",
        "colab": {
          "base_uri": "https://localhost:8080/"
        },
        "outputId": "30a85f45-ec86-4a8d-dc4a-188477a96db9"
      },
      "source": [
        "a =  [5,7,7,9,10,16,7,14,13,15,16,15,\n",
        "     16,17,18,13,14,15,6,13, 14, 12 ,13 ]\n",
        "\n",
        "print(mean_confidence_interval(a, 0.60))\n",
        "print(mean_confidence_interval(a, 0.90))"
      ],
      "execution_count": null,
      "outputs": [
        {
          "output_type": "stream",
          "name": "stdout",
          "text": [
            "(11.707786838827133, 12.391304347826088, 13.074821856825043)\n",
            "(11.02521592553596, 12.391304347826088, 13.757392770116216)\n"
          ]
        }
      ]
    },
    {
      "cell_type": "markdown",
      "metadata": {
        "id": "rI1W8rvjy_Oz"
      },
      "source": [
        "<div class=\"alert alert-info\">\n",
        "<b>Задача: </b>\n",
        "    \n",
        "Попробуем с помощью доверительного интервала оценить, какое минимальное количество штатов надо взять, чтобы определить будущего президента\n",
        "</div>"
      ]
    },
    {
      "cell_type": "code",
      "metadata": {
        "id": "q7YOyAUvy_O0"
      },
      "source": [
        "US_elect_county = 'https://raw.githubusercontent.com/a-milenkin/datasets_for_t-tests/main/2012_US_elect_county.csv'\n",
        " \n",
        "df = pd.read_csv(US_elect_county, sep=',',  error_bad_lines=False) # Откроем датасет"
      ],
      "execution_count": null,
      "outputs": []
    },
    {
      "cell_type": "code",
      "metadata": {
        "id": "_B49m87Sy_O1",
        "colab": {
          "base_uri": "https://localhost:8080/",
          "height": 202
        },
        "outputId": "f58a52c9-713c-4a0b-c41d-a84992f8cad2"
      },
      "source": [
        "df.dropna(how='any',inplace=True)  #Удалим пустые значения\n",
        "df=df[df['%']!='#DIV/0!'][['State Postal','County Name','%']] #Удалим мусор из данных и оставим только нужное\n",
        "df['%'] = df['%'].astype(float) # Приведем к численному значению результаты голосования\n",
        "df.head()"
      ],
      "execution_count": null,
      "outputs": [
        {
          "output_type": "execute_result",
          "data": {
            "text/html": [
              "<div>\n",
              "<style scoped>\n",
              "    .dataframe tbody tr th:only-of-type {\n",
              "        vertical-align: middle;\n",
              "    }\n",
              "\n",
              "    .dataframe tbody tr th {\n",
              "        vertical-align: top;\n",
              "    }\n",
              "\n",
              "    .dataframe thead th {\n",
              "        text-align: right;\n",
              "    }\n",
              "</style>\n",
              "<table border=\"1\" class=\"dataframe\">\n",
              "  <thead>\n",
              "    <tr style=\"text-align: right;\">\n",
              "      <th></th>\n",
              "      <th>State Postal</th>\n",
              "      <th>County Name</th>\n",
              "      <th>%</th>\n",
              "    </tr>\n",
              "  </thead>\n",
              "  <tbody>\n",
              "    <tr>\n",
              "      <th>0</th>\n",
              "      <td>AK</td>\n",
              "      <td>Alaska</td>\n",
              "      <td>41.6</td>\n",
              "    </tr>\n",
              "    <tr>\n",
              "      <th>1</th>\n",
              "      <td>AK</td>\n",
              "      <td>Alaska</td>\n",
              "      <td>41.6</td>\n",
              "    </tr>\n",
              "    <tr>\n",
              "      <th>2</th>\n",
              "      <td>AL</td>\n",
              "      <td>Alabama</td>\n",
              "      <td>38.4</td>\n",
              "    </tr>\n",
              "    <tr>\n",
              "      <th>3</th>\n",
              "      <td>AL</td>\n",
              "      <td>Autauga</td>\n",
              "      <td>26.6</td>\n",
              "    </tr>\n",
              "    <tr>\n",
              "      <th>4</th>\n",
              "      <td>AL</td>\n",
              "      <td>Baldwin</td>\n",
              "      <td>21.6</td>\n",
              "    </tr>\n",
              "  </tbody>\n",
              "</table>\n",
              "</div>"
            ],
            "text/plain": [
              "  State Postal County Name     %\n",
              "0           AK      Alaska  41.6\n",
              "1           AK      Alaska  41.6\n",
              "2           AL     Alabama  38.4\n",
              "3           AL     Autauga  26.6\n",
              "4           AL     Baldwin  21.6"
            ]
          },
          "metadata": {},
          "execution_count": 11
        }
      ]
    },
    {
      "cell_type": "code",
      "metadata": {
        "id": "PiYYnqE3y_O8",
        "colab": {
          "base_uri": "https://localhost:8080/",
          "height": 282
        },
        "outputId": "487097fc-c0e0-4384-9e9e-3ca8a00debb9"
      },
      "source": [
        "df['%'].hist(bins=15)\n",
        "print('Среднее по всей выборке: ',df['%'].mean())"
      ],
      "execution_count": null,
      "outputs": [
        {
          "output_type": "stream",
          "name": "stdout",
          "text": [
            "Среднее по всей выборке:  44.07946954813346\n"
          ]
        },
        {
          "output_type": "display_data",
          "data": {
            "image/png": "[encoded data removed]",
            "text/plain": [
              "<Figure size 432x288 with 1 Axes>"
            ]
          },
          "metadata": {
            "needs_background": "light"
          }
        }
      ]
    },
    {
      "cell_type": "code",
      "metadata": {
        "id": "6dNuDnPNy_O9",
        "colab": {
          "base_uri": "https://localhost:8080/"
        },
        "outputId": "7817f68e-de0a-48b3-c11e-febfe433b752"
      },
      "source": [
        "some_states_1 = ['AK','OH','WV','ME','CA','MD']\n",
        "some_states_2 = ['WA','AK','DE']\n",
        "some_states_3 = ['AZ','RI','MA']\n",
        "\n",
        "sub_df = df.loc[df['State Postal'].isin(some_states_2)]  # Выборка по нескольким штатам\n",
        "\n",
        "l, s, r=mean_confidence_interval(sub_df['%'], 0.99) #функция выводящая ДИ\n",
        "l, s, r"
      ],
      "execution_count": null,
      "outputs": [
        {
          "output_type": "execute_result",
          "data": {
            "text/plain": [
              "(42.025084908626724, 46.23478260869564, 50.444480308764554)"
            ]
          },
          "metadata": {},
          "execution_count": 13
        }
      ]
    },
    {
      "cell_type": "code",
      "metadata": {
        "id": "8srGMQXEy_O_"
      },
      "source": [
        "#df['State Postal'].value_counts()  # Раскомментить, если интересно соотношение штатов. "
      ],
      "execution_count": null,
      "outputs": []
    },
    {
      "cell_type": "markdown",
      "metadata": {
        "id": "U_jCFZsUy_PJ"
      },
      "source": [
        "<div class=\"alert alert-info\">\n",
        "<b>Другой пример: </b>\n",
        "    \n",
        "Рассмотрим такой случай. Допустим, вы журналист и оказались в 2016 году в преддверии выборов президента в США. Вы хотите по результатам своих исследований достаточно точно определить, кто победит на этих выборах. Сколько вам необходимо опросить людей, чтобы назвать будущего президента с точность в 95%???\n",
        "</div>"
      ]
    },
    {
      "cell_type": "markdown",
      "metadata": {
        "id": "EWMTQtSDy_PL"
      },
      "source": [
        "<div class=\"alert alert-info\">\n",
        "    \n",
        "Результаты предшествующих исследований свидетельствуют, что стандартное отклонение генеральной совокупности приближенно равно 15. Пусть погрешность измерений $\\Delta$ = 5. Таким образом, обозначим стандартное отклонение $\\sigma$ = 15 и квантиль нормального распределения Z = 1,96.\n",
        "\n",
        "</div>"
      ]
    },
    {
      "cell_type": "markdown",
      "metadata": {
        "id": "EZlyu6Jqy_PO"
      },
      "source": [
        "$$ n = (\\frac{Z*\\sigma}{\\Delta})^2$$\n",
        "- $\\Delta$ - допустимая ошибка/погрешность, \n",
        "\n",
        "- $\\sigma$ - стандартное отклонение, \n",
        "\n",
        "- Z - квантиль нормального распределения\n"
      ]
    },
    {
      "cell_type": "code",
      "metadata": {
        "id": "HiPgCshay_PQ"
      },
      "source": [
        "sigma = 15  # Стандартное отклонение\n",
        "Z = 1.96  #  %   # Квантиль нормального распределения. \n",
        "Delta = 5 #%         #Погрешность"
      ],
      "execution_count": null,
      "outputs": []
    },
    {
      "cell_type": "code",
      "metadata": {
        "id": "s3P3u1yLy_PR",
        "outputId": "a0c7b420-96b0-4140-a3d0-8c062138ca09"
      },
      "source": [
        "N = int(((sigma*Z)/Delta)**2) # объем выборки\n",
        "N"
      ],
      "execution_count": null,
      "outputs": [
        {
          "data": {
            "text/plain": [
              "34"
            ]
          },
          "execution_count": 11,
          "metadata": {},
          "output_type": "execute_result"
        }
      ]
    },
    {
      "cell_type": "markdown",
      "metadata": {
        "id": "eMoHuWOqy_PS"
      },
      "source": [
        "# Проверим разумность наших расуждений:"
      ]
    },
    {
      "cell_type": "code",
      "metadata": {
        "id": "j7uJDq_9y_PT",
        "outputId": "17579f72-91fe-48e3-f0a3-217a542527e2"
      },
      "source": [
        "df = df['%']\n",
        "print('Стандартное отклонение: ', df.std())\n",
        "print('Среднее: ', df.mean())\n",
        "df.hist(bins=80)"
      ],
      "execution_count": null,
      "outputs": [
        {
          "name": "stdout",
          "output_type": "stream",
          "text": [
            "Стандартное отклонение:  15.742396788859033\n",
            "Среднее:  44.07946954813346\n"
          ]
        },
        {
          "data": {
            "text/plain": [
              "<AxesSubplot:>"
            ]
          },
          "execution_count": 12,
          "metadata": {},
          "output_type": "execute_result"
        },
        {
          "data": {
            "image/png": "[encoded data removed]",
            "text/plain": [
              "<Figure size 432x288 with 1 Axes>"
            ]
          },
          "metadata": {
            "needs_background": "light"
          },
          "output_type": "display_data"
        }
      ]
    },
    {
      "cell_type": "code",
      "metadata": {
        "id": "eSeZtshvy_PW",
        "outputId": "f6f11a0b-6544-40bd-86d1-738b1c755d16"
      },
      "source": [
        "MEAN = df.sample(n = int(N)).mean()  # Возьмем выборку из случайных n значений\n",
        "print('Среднее выборки: ', MEAN)\n",
        "print('Среднее генеральной совокупности: ', df.mean())\n",
        "print('Доверительный интервал: (', MEAN-Delta, ', ', MEAN+Delta, ')', sep='')"
      ],
      "execution_count": null,
      "outputs": [
        {
          "name": "stdout",
          "output_type": "stream",
          "text": [
            "Среднее выборки:  44.96176470588235\n",
            "Среднее генеральной совокупности:  44.07946954813346\n",
            "Доверительный интервал: (39.96176470588235, 49.96176470588235)\n"
          ]
        }
      ]
    },
    {
      "cell_type": "code",
      "metadata": {
        "id": "Ln6B0llMy_PX"
      },
      "source": [
        "# df.boxplot(by='%')"
      ],
      "execution_count": null,
      "outputs": []
    },
    {
      "cell_type": "code",
      "metadata": {
        "id": "Q6lV1ECVy_PY"
      },
      "source": [
        "# from scipy.stats import norm\n",
        "# norm.ppf(0.95, loc=0, scale=1)\n"
      ],
      "execution_count": null,
      "outputs": []
    },
    {
      "cell_type": "markdown",
      "metadata": {
        "id": "QWYC_Rowy_PZ"
      },
      "source": [
        "# Проверка гипотез с помощью Python. "
      ]
    },
    {
      "cell_type": "markdown",
      "metadata": {
        "id": "5-hMeahty_Pd"
      },
      "source": [
        "## T-test (Для двух выборок).  Самый важный!!!!!"
      ]
    },
    {
      "cell_type": "markdown",
      "metadata": {
        "id": "dDs0XdVhy_Pd"
      },
      "source": [
        "<div class=\"alert alert-info\">\n",
        "<b>Описание: </b>\n",
        "Такой тест показывает, имеют ли две выборки данных разные средние значения (Теперь у нас две разные выборки, а не одна!). Здесь мы принимаем нулевую гипотезу о том, что обе группы имеют равные средние. Для этого нам не нужен известный параметр численности.\n",
        "</div>"
      ]
    },
    {
      "cell_type": "code",
      "metadata": {
        "id": "vOZQb-bdy_Pe",
        "colab": {
          "base_uri": "https://localhost:8080/"
        },
        "outputId": "17dac99e-83fc-495d-d07b-613f10a0c04d"
      },
      "source": [
        "from scipy import stats  # Импортируем библиотеку\n",
        "\n",
        "np.random.seed(42)  # Закрепим seed для воспроизводимости результата.\n",
        "\n",
        "# Генерируем случайное множество с нормальным распределением, где среднее = loc, а стандартное отклонение = scale\n",
        "A = stats.norm.rvs(loc=50, scale=10, size=1100)  \n",
        "B = stats.norm.rvs(loc=49, scale=10, size=1500) \n",
        "\n",
        "\n",
        "t, p_value = stats.ttest_ind(A, B) #Критерий Стьюдента (t-test)\n",
        "t, p_value"
      ],
      "execution_count": null,
      "outputs": [
        {
          "output_type": "execute_result",
          "data": {
            "text/plain": [
              "(2.4653667464001203, 0.01375151447955999)"
            ]
          },
          "metadata": {},
          "execution_count": 16
        }
      ]
    },
    {
      "cell_type": "code",
      "metadata": {
        "id": "wwaIsi_vy_Ph",
        "colab": {
          "base_uri": "https://localhost:8080/"
        },
        "outputId": "3728d868-cec7-499f-ee2a-d67abaa91e7f"
      },
      "source": [
        "stats.ttest_ind(A, B, equal_var = False)"
      ],
      "execution_count": null,
      "outputs": [
        {
          "output_type": "execute_result",
          "data": {
            "text/plain": [
              "Ttest_indResult(statistic=2.472112679960154, pvalue=0.013500837093626568)"
            ]
          },
          "metadata": {},
          "execution_count": 17
        }
      ]
    },
    {
      "cell_type": "markdown",
      "metadata": {
        "id": "FmiHtDBDy_Pj"
      },
      "source": [
        "**Мы получаем хорошее значение p, равное 0,013, и, таким образом, мы отклоняем нулевую гипотезу, то есть - средние значения двух распределений различны и это различие статистически значимо**"
      ]
    },
    {
      "cell_type": "markdown",
      "metadata": {
        "id": "lJK4PRVey_Pk"
      },
      "source": [
        "#### И действительно, если посмотреть на сгенерированные выборки. "
      ]
    },
    {
      "cell_type": "code",
      "metadata": {
        "id": "lGCwjDuPy_Pk",
        "outputId": "9c84465c-28d1-44ba-9b24-a2da3898005d"
      },
      "source": [
        "plt.hist(B, bins=25); #Выборка A\n",
        "plt.hist(A, bins=25);  #Выборка B"
      ],
      "execution_count": null,
      "outputs": [
        {
          "data": {
            "image/png": "[encoded data removed]",
            "text/plain": [
              "<Figure size 432x288 with 1 Axes>"
            ]
          },
          "metadata": {
            "needs_background": "light"
          },
          "output_type": "display_data"
        }
      ]
    },
    {
      "cell_type": "code",
      "metadata": {
        "id": "yNdr8DERy_Pl",
        "colab": {
          "base_uri": "https://localhost:8080/",
          "height": 265
        },
        "outputId": "6aa9bee1-6335-4500-ba56-d7e030f284e7"
      },
      "source": [
        "plt.boxplot(A);\n",
        "plt.boxplot(B);"
      ],
      "execution_count": null,
      "outputs": [
        {
          "output_type": "display_data",
          "data": {
            "image/png": "[encoded data removed]",
            "text/plain": [
              "<Figure size 432x288 with 1 Axes>"
            ]
          },
          "metadata": {
            "needs_background": "light"
          }
        }
      ]
    },
    {
      "cell_type": "markdown",
      "metadata": {
        "id": "q7cDvgoRy_Pn"
      },
      "source": [
        "### t-Тест (Критерий Стьюдента имеет несколько разновидностей, ниже приведены еще две). "
      ]
    },
    {
      "cell_type": "markdown",
      "metadata": {
        "id": "NejqJstpy_Po"
      },
      "source": [
        "# 1. Одновыборочный T-test (Выборка + ГС)"
      ]
    },
    {
      "cell_type": "markdown",
      "metadata": {
        "id": "H1bgwg8ry_Pp"
      },
      "source": [
        "<div class=\"alert alert-info\">\n",
        "<b>Описание: </b>\n",
        "Давайте попробуем это на одном образце. Тест покажет нам, отличаются ли средние значения выборки и генеральной совокупности (сравниваем с генеральной!). Рассмотрим некоторое количество голосующих из Индии и население всего Мира. Отличается ли средний возраст избирателей Индии от возраста населения? Сейчас выясним!\n",
        "</div>"
      ]
    },
    {
      "cell_type": "code",
      "metadata": {
        "id": "EUMSESiEy_Pp",
        "colab": {
          "base_uri": "https://localhost:8080/"
        },
        "outputId": "5f7307a8-fcf1-4ecd-e68d-365eb1213834"
      },
      "source": [
        "from scipy import stats\n",
        "np.random.seed(42)\n",
        "\n",
        "population_ages1=stats.norm.rvs(loc=20, scale=45, size=15000)   \n",
        "population_ages2=stats.norm.rvs(loc=20, scale=10, size=10000)\n",
        "population_ages=np.concatenate((population_ages1,population_ages2))  # Сгенерировали всю популяцию. \n",
        "\n",
        "india_ages1=stats.norm.rvs(loc=19, scale=65, size=2000)  # Индия 1\n",
        "india_ages2=stats.norm.rvs(loc=19, scale=55, size=2000)\n",
        "india_ages=np.concatenate((india_ages1, india_ages2)) #Выборка\n",
        "print('Средний возраст всего мира',population_ages.mean())\n",
        "print('Средний возраст индусов',india_ages.mean())"
      ],
      "execution_count": null,
      "outputs": [
        {
          "output_type": "stream",
          "name": "stdout",
          "text": [
            "Средний возраст всего мира 20.05285494883601\n",
            "Средний возраст индусов 18.637370653568478\n"
          ]
        }
      ]
    },
    {
      "cell_type": "code",
      "metadata": {
        "id": "X29Pexjoy_Px",
        "outputId": "514f810f-fbd9-4b8d-fb7a-a3c62c69a7a1"
      },
      "source": [
        "t_value, p_value = stats.ttest_1samp(a=india_ages, popmean=population_ages.mean())\n",
        "print('t_value', t_value, 'p_value', p_value)"
      ],
      "execution_count": null,
      "outputs": [
        {
          "name": "stdout",
          "output_type": "stream",
          "text": [
            "t_value -1.4937509836536451 p_value 0.13531961104529197\n"
          ]
        }
      ]
    },
    {
      "cell_type": "markdown",
      "metadata": {
        "id": "oKuCYAFHy_Py"
      },
      "source": [
        "**Теперь это значение `t=-1.493` говорит нам, насколько отклоняется выборочное среднее от нулевой гипотезы.**"
      ]
    },
    {
      "cell_type": "code",
      "metadata": {
        "id": "Ug1nAeaVy_Pz",
        "outputId": "bbd3c02d-a49f-4d5a-a421-a19a51c15d7c"
      },
      "source": [
        "plt.hist(population_ages, bins=120); # Вся популяция.\n",
        "plt.hist(india_ages, bins=120);  # Выборка"
      ],
      "execution_count": null,
      "outputs": [
        {
          "data": {
            "image/png": "[encoded data removed]",
            "text/plain": [
              "<Figure size 432x288 with 1 Axes>"
            ]
          },
          "metadata": {
            "needs_background": "light"
          },
          "output_type": "display_data"
        }
      ]
    },
    {
      "cell_type": "markdown",
      "metadata": {
        "id": "OHj_FlkHy_Pz"
      },
      "source": [
        "# 2. Парный T-test (Сравнение зависимых)"
      ]
    },
    {
      "cell_type": "markdown",
      "metadata": {
        "id": "N5KGhMKhy_P1"
      },
      "source": [
        "<div class=\"alert alert-info\">\n",
        "<b>Описание: </b>\n",
        "    \n",
        "T-критерий парной выборки, иногда называемый `t-критерием` зависимой выборки, представляет собой статистическую процедуру, используемую для определения того, равна ли нулю средняя разница между двумя наборами наблюдений. В парном выборочном `t-тесте` каждый субъект или объект измеряется дважды, в результате чего получаются пары наблюдений. Общие применения парного `t-критерия` выборки включают исследования случай-контроль или планы повторных измерений. \n",
        "\n",
        " Предположим, вас интересует оценка эффективности программы обучения компании. Один из подходов, который вы можете рассмотреть, - это измерение производительности выборки сотрудников до и после завершения программы и анализ различий с использованием парного выборочного `t-критерия`. \n",
        "</div>"
      ]
    },
    {
      "cell_type": "markdown",
      "metadata": {
        "id": "sQGBtMOxy_P2"
      },
      "source": [
        " "
      ]
    },
    {
      "cell_type": "code",
      "metadata": {
        "id": "yFzSJdkvy_P2",
        "colab": {
          "base_uri": "https://localhost:8080/",
          "height": 294
        },
        "outputId": "7ff32b1f-6d4a-4fa9-d34a-4cb129ea63dc"
      },
      "source": [
        "np.random.seed(42)\n",
        "before = stats.norm.rvs(scale = 30, loc = 250, size = 100)\n",
        "after = before + stats.norm.rvs(scale = 5, loc = -.273, size = 100)\n",
        "weight_df = pd.DataFrame({\"weight_before\":before,\n",
        "                         \"weight_after\":after,\n",
        "                         \"weight_change\":after-before})\n",
        "weight_df.describe()"
      ],
      "execution_count": null,
      "outputs": [
        {
          "output_type": "execute_result",
          "data": {
            "text/html": [
              "<div>\n",
              "<style scoped>\n",
              "    .dataframe tbody tr th:only-of-type {\n",
              "        vertical-align: middle;\n",
              "    }\n",
              "\n",
              "    .dataframe tbody tr th {\n",
              "        vertical-align: top;\n",
              "    }\n",
              "\n",
              "    .dataframe thead th {\n",
              "        text-align: right;\n",
              "    }\n",
              "</style>\n",
              "<table border=\"1\" class=\"dataframe\">\n",
              "  <thead>\n",
              "    <tr style=\"text-align: right;\">\n",
              "      <th></th>\n",
              "      <th>weight_before</th>\n",
              "      <th>weight_after</th>\n",
              "      <th>weight_change</th>\n",
              "    </tr>\n",
              "  </thead>\n",
              "  <tbody>\n",
              "    <tr>\n",
              "      <th>count</th>\n",
              "      <td>100.000000</td>\n",
              "      <td>100.000000</td>\n",
              "      <td>100.000000</td>\n",
              "    </tr>\n",
              "    <tr>\n",
              "      <th>mean</th>\n",
              "      <td>246.884604</td>\n",
              "      <td>246.723127</td>\n",
              "      <td>-0.161477</td>\n",
              "    </tr>\n",
              "    <tr>\n",
              "      <th>std</th>\n",
              "      <td>27.245053</td>\n",
              "      <td>27.010808</td>\n",
              "      <td>4.768345</td>\n",
              "    </tr>\n",
              "    <tr>\n",
              "      <th>min</th>\n",
              "      <td>171.407647</td>\n",
              "      <td>172.518101</td>\n",
              "      <td>-9.866856</td>\n",
              "    </tr>\n",
              "    <tr>\n",
              "      <th>25%</th>\n",
              "      <td>231.972830</td>\n",
              "      <td>229.732678</td>\n",
              "      <td>-4.301303</td>\n",
              "    </tr>\n",
              "    <tr>\n",
              "      <th>50%</th>\n",
              "      <td>246.191311</td>\n",
              "      <td>247.144815</td>\n",
              "      <td>0.147536</td>\n",
              "    </tr>\n",
              "    <tr>\n",
              "      <th>75%</th>\n",
              "      <td>262.178562</td>\n",
              "      <td>261.714136</td>\n",
              "      <td>2.417852</td>\n",
              "    </tr>\n",
              "    <tr>\n",
              "      <th>max</th>\n",
              "      <td>305.568346</td>\n",
              "      <td>306.534314</td>\n",
              "      <td>13.327846</td>\n",
              "    </tr>\n",
              "  </tbody>\n",
              "</table>\n",
              "</div>"
            ],
            "text/plain": [
              "       weight_before  weight_after  weight_change\n",
              "count     100.000000    100.000000     100.000000\n",
              "mean      246.884604    246.723127      -0.161477\n",
              "std        27.245053     27.010808       4.768345\n",
              "min       171.407647    172.518101      -9.866856\n",
              "25%       231.972830    229.732678      -4.301303\n",
              "50%       246.191311    247.144815       0.147536\n",
              "75%       262.178562    261.714136       2.417852\n",
              "max       305.568346    306.534314      13.327846"
            ]
          },
          "metadata": {},
          "execution_count": 21
        }
      ]
    },
    {
      "cell_type": "code",
      "metadata": {
        "id": "-rNObSqMy_P2",
        "colab": {
          "base_uri": "https://localhost:8080/"
        },
        "outputId": "7bce3ecc-8062-4bae-fee6-a9d3b371646f"
      },
      "source": [
        "stats.ttest_rel(a=before, b=after)"
      ],
      "execution_count": null,
      "outputs": [
        {
          "output_type": "execute_result",
          "data": {
            "text/plain": [
              "Ttest_relResult(statistic=0.33864384912652695, pvalue=0.7355952264426646)"
            ]
          },
          "metadata": {},
          "execution_count": 22
        }
      ]
    },
    {
      "cell_type": "markdown",
      "metadata": {
        "id": "dxTI5EUFy_P7"
      },
      "source": [
        "**Итак, мы видим, что у нас есть только 1% шансов найти такие различия между образцами случайно.**"
      ]
    },
    {
      "cell_type": "markdown",
      "metadata": {
        "id": "W6Sy1Xqiy_QE"
      },
      "source": [
        "# Практическое применение t-Тест Стьюдента"
      ]
    },
    {
      "cell_type": "markdown",
      "metadata": {
        "id": "jhAxMUy-y_Qq"
      },
      "source": [
        "<div class=\"alert alert-info\">\n",
        "<b>Задание: </b>\n",
        "    \n",
        "Представим, что вы следователь какой-то крупной рекламной компаннии. \n",
        "Ваша задача иследовать рынок манго в течение последних нескольких лет.\n",
        "У вас уже есть предварительные данные. Ваши подчиненные решили схалтурить и принести вам совсем другие отчеты. \n",
        "\n",
        "Сможели ли вы их разоблачить с помощью t-Тест Стьюдента?\n",
        "</div>"
      ]
    },
    {
      "cell_type": "markdown",
      "metadata": {
        "id": "LHncy5buy_Qr"
      },
      "source": [
        "<p style=\"align: center;\"><img align=center src=\"https://www.canadianbusiness.com/wp-content/uploads/2012/02/6ed2b4b84defad6ff7b3b813f634.jpg\"  width=500></p>\n",
        "\n"
      ]
    },
    {
      "cell_type": "code",
      "metadata": {
        "id": "3f8QAapwy_Qs",
        "outputId": "d3e65690-8592-4e42-cb9e-971479c1f339"
      },
      "source": [
        "avocado = 'https://raw.githubusercontent.com/a-milenkin/datasets_for_t-tests/main/avocado.csv'\n",
        "Students = 'https://raw.githubusercontent.com/a-milenkin/datasets_for_t-tests/main/StudentsPerformance.csv'\n",
        "\n",
        "A = pd.read_csv(avocado, sep=',', index_col=0, error_bad_lines=False).AveragePrice[:2000]\n",
        "B = pd.read_csv(Students, sep=',', index_col=0, error_bad_lines=False)['math score']\n",
        "tvalue, pvalue = stats.ttest_ind(A, B)\n",
        "print('t_value:',tvalue, '_pvalue: ',pvalue)\n",
        "\n",
        "\n",
        "#и действительно выборки пренадлежать разным распределениям, что очевидно\n",
        "\n",
        "plt.hist(B, bins=15);\n",
        "plt.hist(A, bins=15);"
      ],
      "execution_count": null,
      "outputs": [
        {
          "name": "stdout",
          "output_type": "stream",
          "text": [
            "t_value: -191.74088043195104 _pvalue:  0.0\n"
          ]
        },
        {
          "data": {
            "image/png": "[encoded data removed]",
            "text/plain": [
              "<Figure size 432x288 with 1 Axes>"
            ]
          },
          "metadata": {
            "needs_background": "light"
          },
          "output_type": "display_data"
        }
      ]
    },
    {
      "cell_type": "markdown",
      "metadata": {
        "id": "SA0QnkQjy_Qt"
      },
      "source": [
        "<div class=\"alert alert-info\">\n",
        "<b>Дополнительно: </b>\n",
        "    \n",
        "Помимо проверки, что выборки могу значимо различаться, t-Тест еще полезен при поиске выбросов в данных.\n",
        "</div>"
      ]
    },
    {
      "cell_type": "code",
      "metadata": {
        "id": "0sM7BEIdy_Qu"
      },
      "source": [
        " "
      ],
      "execution_count": null,
      "outputs": []
    },
    {
      "cell_type": "markdown",
      "metadata": {
        "id": "0ES7JTJqy_Qu"
      },
      "source": [
        "# Точный критерий Фишера  и  Критерий пирсона ($\\chi^{2}$)"
      ]
    },
    {
      "cell_type": "markdown",
      "metadata": {
        "id": "axzGGN3my_Q7"
      },
      "source": [
        "<div class=\"alert alert-info\">\n",
        "<b>Вспомним: </b>\n",
        "    \n",
        "Критерий Стьюдента позволяет работать с численными переменными, но не позволяет работать с категориальными. Для этого существует критерий Фишера (или Хи-квадрат). Одна из его задач сказать, насколько случайно распределены значения между группами. Позволяет проверить гипотезу, есть ли значимый перевес между группами. Смотри пример в лекции.\n",
        "    \n",
        "</div>"
      ]
    },
    {
      "cell_type": "markdown",
      "metadata": {
        "id": "ChS5S4dyy_Q8"
      },
      "source": [
        "<div class=\"alert alert-info\">\n",
        "<b>Пример: </b>\n",
        "    \n",
        "Например, вы хотите проверить нет ли дискриминации \n",
        "по половому признаку в сфере Data Science.\n",
        "Вы узнали, что в какой-то компании после серии собеседований \n",
        "107 мужчин взяли на работу, а отказали 93-м мужчинам. \n",
        "А среди женщин 74 взяли, а отказали 45-и.\n",
        "Относится ли руководство компании \n",
        "предвзято к мужчинам или к женщинам?\n",
        "    \n",
        "</div>"
      ]
    },
    {
      "cell_type": "code",
      "metadata": {
        "id": "TjG-9571y_Q8",
        "colab": {
          "base_uri": "https://localhost:8080/"
        },
        "outputId": "85482d94-85e3-44ba-ca85-b828f1d70554"
      },
      "source": [
        "import scipy as spy\n",
        "\n",
        "x = [[107,93],[74,45]]\n",
        "print(x)\n",
        "oddsratio, pvalue = spy.stats.fisher_exact(x) # Точный тест Фишера\n",
        "\n",
        "oddsratio, pvalue"
      ],
      "execution_count": null,
      "outputs": [
        {
          "output_type": "stream",
          "name": "stdout",
          "text": [
            "[[107, 93], [74, 45]]\n"
          ]
        },
        {
          "output_type": "execute_result",
          "data": {
            "text/plain": [
              "(0.6996512641673932, 0.1607594221528123)"
            ]
          },
          "metadata": {},
          "execution_count": 23
        }
      ]
    },
    {
      "cell_type": "markdown",
      "metadata": {
        "id": "rw3SkavMy_Q9"
      },
      "source": [
        "# Критерий Пирсона (он же $\\chi^{2}$ )"
      ]
    },
    {
      "cell_type": "markdown",
      "metadata": {
        "id": "IeNhlDjFy_RM"
      },
      "source": [
        "**Пример использования Хи-квадрат теста**"
      ]
    },
    {
      "cell_type": "markdown",
      "metadata": {
        "id": "eo1WK0xNy_RM"
      },
      "source": [
        "<div class=\"alert alert-info\">\n",
        "<b>Пример: </b>\n",
        "    \n",
        "Например, вы хотите проверить правда ли эксперт по Data Science таковым является. Вы составили список вопросов, спросили эксперта и случайных прохожих. Количество правильный вопросов по каждому разделу вы записали в таблицу (таблица смежности)\n",
        "\n",
        "Выясните, исходя из полученных данных, действительно ли перед вами носитель экспертности или пока что еще не очень опытный начинаюший?\n",
        "    \n",
        "</div>"
      ]
    },
    {
      "cell_type": "code",
      "metadata": {
        "id": "4_yc6pGRy_RM",
        "outputId": "76bbce89-ab4a-4cde-963b-90772d69f874"
      },
      "source": [
        "import scipy as spy\n",
        "from scipy import stats\n",
        "\n",
        "# Сгенерируем случайную матрицу/табличку 2х2\n",
        "contingency_table = pd.DataFrame(\n",
        "    [  \n",
        "[22, 99, 59],\n",
        "[10, 12, 31]\n",
        "    ],\n",
        "    columns = ['Machine Learning', 'Data Science', 'Analytics'],\n",
        "    index = ['Эксперт', 'Случайный прохожий'])\n",
        "\n",
        "print('Реальная таблица')\n",
        "print(contingency_table)\n"
      ],
      "execution_count": null,
      "outputs": [
        {
          "name": "stdout",
          "output_type": "stream",
          "text": [
            "Реальная таблица\n",
            "                    Machine Learning  Data Science  Analytics\n",
            "Эксперт                           22            99         59\n",
            "Случайный прохожий                10            12         31\n"
          ]
        }
      ]
    },
    {
      "cell_type": "markdown",
      "metadata": {
        "id": "AQ8ZsU23y_RR"
      },
      "source": [
        "**В качестве проверки мы можем сравнить p-значение и уровень значимости. Если значение p <уровня значимости, мы отклоняем нулевую гипотезу.**"
      ]
    },
    {
      "cell_type": "code",
      "metadata": {
        "id": "shuIgXMoy_RR",
        "outputId": "aec8e4f5-2dba-4c9b-c645-9154f3280454"
      },
      "source": [
        "chi, pval, dof, exp = stats.chi2_contingency(contingency_table.values) #Критерий Пирсона (хи квадрат)\n",
        "significance = 0.05\n",
        "print('p-value=%.6f, significance=%.2f\\n' % (pval, significance))\n",
        "\n",
        "print(pval)\n",
        "if pval < significance:\n",
        "    print(\"\"\"На %.2f уровене значимости, мы отвергаем нулевые гипотезы и принимаем H1.\n",
        "            Они не независимы.\"\"\" % (significance))\n",
        "    print('Это правда эксперт!')\n",
        "else:\n",
        "    print(\"\"\"На %.2f уровене значимости, мы принимаем нулевые гипотезы.  \n",
        "            Они независимы.\"\"\" % (significance))\n",
        "    \n",
        "    \n",
        "# Возвращает:\n",
        "# chi2 : Посчитанную статистику теста.\n",
        "# p :  p-value теста\n",
        "# dof : Степени свободы\n",
        "# expected : Ожидаемые частоты, основанные на предельных суммах таблицы."
      ],
      "execution_count": null,
      "outputs": [
        {
          "name": "stdout",
          "output_type": "stream",
          "text": [
            "p-value=0.000173, significance=0.05\n",
            "\n",
            "0.00017303774198262266\n",
            "На 0.05 уровене значимости, мы отвергаем нулевые гипотезы и принимаем H1.\n",
            "            Они не независимы.\n",
            "Это правда эксперт!\n"
          ]
        }
      ]
    },
    {
      "cell_type": "code",
      "metadata": {
        "id": "upFtdpecy_RY"
      },
      "source": [
        ""
      ],
      "execution_count": null,
      "outputs": []
    },
    {
      "cell_type": "markdown",
      "metadata": {
        "id": "Kq0pabHqy_Re"
      },
      "source": [
        "# Рынок жилья в New York City  или Трюк с распределением"
      ]
    },
    {
      "cell_type": "markdown",
      "metadata": {
        "id": "GzSIFeqcy_Rf"
      },
      "source": [
        "New York City Airbnb Open Data\n",
        "Airbnb listings and metrics in NYC, NY, USA (2019)"
      ]
    },
    {
      "cell_type": "markdown",
      "metadata": {
        "id": "YGjgYXj9y_Rh"
      },
      "source": [
        "<p style=\"align: center;\"><img align=center src=\"https://upload.wikimedia.org/wikipedia/commons/5/5a/New_York_City_District_Map.png\n",
        "\"  width=400></p>\n"
      ]
    },
    {
      "cell_type": "markdown",
      "metadata": {
        "id": "mGl2fKsny_Ri"
      },
      "source": [
        "<div class=\"alert alert-info\">\n",
        "<b>Предостирежение: </b>\n",
        "    \n",
        "Для построения доверительного интервала с помощью метода, показанного выше, важно, чтобы распределение исследуемой выборки имело нормально распределение\n",
        "</div>"
      ]
    },
    {
      "cell_type": "code",
      "metadata": {
        "id": "fsAW5ieLy_Ri",
        "outputId": "a4b345bb-4fb5-415a-8425-390205ec67ba"
      },
      "source": [
        "url  = 'https://raw.githubusercontent.com/a-milenkin/datasets_for_t-tests/main/AB_NYC_2019.csv'\n",
        "df = pd.read_csv(url, error_bad_lines=False)\n",
        "#df = pd.read_csv('AB_NYC_2019.csv')\n",
        "df.dropna(how='any',inplace=True)\n",
        "df.head(3)"
      ],
      "execution_count": null,
      "outputs": [
        {
          "data": {
            "text/html": [
              "<div>\n",
              "<style scoped>\n",
              "    .dataframe tbody tr th:only-of-type {\n",
              "        vertical-align: middle;\n",
              "    }\n",
              "\n",
              "    .dataframe tbody tr th {\n",
              "        vertical-align: top;\n",
              "    }\n",
              "\n",
              "    .dataframe thead th {\n",
              "        text-align: right;\n",
              "    }\n",
              "</style>\n",
              "<table border=\"1\" class=\"dataframe\">\n",
              "  <thead>\n",
              "    <tr style=\"text-align: right;\">\n",
              "      <th></th>\n",
              "      <th>id</th>\n",
              "      <th>name</th>\n",
              "      <th>host_id</th>\n",
              "      <th>host_name</th>\n",
              "      <th>neighbourhood_group</th>\n",
              "      <th>neighbourhood</th>\n",
              "      <th>latitude</th>\n",
              "      <th>longitude</th>\n",
              "      <th>room_type</th>\n",
              "      <th>price</th>\n",
              "      <th>minimum_nights</th>\n",
              "      <th>number_of_reviews</th>\n",
              "      <th>last_review</th>\n",
              "      <th>reviews_per_month</th>\n",
              "      <th>calculated_host_listings_count</th>\n",
              "      <th>availability_365</th>\n",
              "    </tr>\n",
              "  </thead>\n",
              "  <tbody>\n",
              "    <tr>\n",
              "      <th>0</th>\n",
              "      <td>2539</td>\n",
              "      <td>Clean &amp; quiet apt home by the park</td>\n",
              "      <td>2787</td>\n",
              "      <td>John</td>\n",
              "      <td>Brooklyn</td>\n",
              "      <td>Kensington</td>\n",
              "      <td>40.64749</td>\n",
              "      <td>-73.97237</td>\n",
              "      <td>Private room</td>\n",
              "      <td>149</td>\n",
              "      <td>1</td>\n",
              "      <td>9</td>\n",
              "      <td>2018-10-19</td>\n",
              "      <td>0.21</td>\n",
              "      <td>6</td>\n",
              "      <td>365</td>\n",
              "    </tr>\n",
              "    <tr>\n",
              "      <th>1</th>\n",
              "      <td>2595</td>\n",
              "      <td>Skylit Midtown Castle</td>\n",
              "      <td>2845</td>\n",
              "      <td>Jennifer</td>\n",
              "      <td>Manhattan</td>\n",
              "      <td>Midtown</td>\n",
              "      <td>40.75362</td>\n",
              "      <td>-73.98377</td>\n",
              "      <td>Entire home/apt</td>\n",
              "      <td>225</td>\n",
              "      <td>1</td>\n",
              "      <td>45</td>\n",
              "      <td>2019-05-21</td>\n",
              "      <td>0.38</td>\n",
              "      <td>2</td>\n",
              "      <td>355</td>\n",
              "    </tr>\n",
              "    <tr>\n",
              "      <th>3</th>\n",
              "      <td>3831</td>\n",
              "      <td>Cozy Entire Floor of Brownstone</td>\n",
              "      <td>4869</td>\n",
              "      <td>LisaRoxanne</td>\n",
              "      <td>Brooklyn</td>\n",
              "      <td>Clinton Hill</td>\n",
              "      <td>40.68514</td>\n",
              "      <td>-73.95976</td>\n",
              "      <td>Entire home/apt</td>\n",
              "      <td>89</td>\n",
              "      <td>1</td>\n",
              "      <td>270</td>\n",
              "      <td>2019-07-05</td>\n",
              "      <td>4.64</td>\n",
              "      <td>1</td>\n",
              "      <td>194</td>\n",
              "    </tr>\n",
              "  </tbody>\n",
              "</table>\n",
              "</div>"
            ],
            "text/plain": [
              "     id                                name  host_id    host_name  \\\n",
              "0  2539  Clean & quiet apt home by the park     2787         John   \n",
              "1  2595               Skylit Midtown Castle     2845     Jennifer   \n",
              "3  3831     Cozy Entire Floor of Brownstone     4869  LisaRoxanne   \n",
              "\n",
              "  neighbourhood_group neighbourhood  latitude  longitude        room_type  \\\n",
              "0            Brooklyn    Kensington  40.64749  -73.97237     Private room   \n",
              "1           Manhattan       Midtown  40.75362  -73.98377  Entire home/apt   \n",
              "3            Brooklyn  Clinton Hill  40.68514  -73.95976  Entire home/apt   \n",
              "\n",
              "   price  minimum_nights  number_of_reviews last_review  reviews_per_month  \\\n",
              "0    149               1                  9  2018-10-19               0.21   \n",
              "1    225               1                 45  2019-05-21               0.38   \n",
              "3     89               1                270  2019-07-05               4.64   \n",
              "\n",
              "   calculated_host_listings_count  availability_365  \n",
              "0                               6               365  \n",
              "1                               2               355  \n",
              "3                               1               194  "
            ]
          },
          "execution_count": 29,
          "metadata": {},
          "output_type": "execute_result"
        }
      ]
    },
    {
      "cell_type": "code",
      "metadata": {
        "id": "NB9lkNg1y_Ro",
        "outputId": "e67b70cd-13f4-47fc-c26d-ad3110f2460a"
      },
      "source": [
        "df[df.price<500].price.hist(bins=30)"
      ],
      "execution_count": null,
      "outputs": [
        {
          "data": {
            "text/plain": [
              "<AxesSubplot:>"
            ]
          },
          "execution_count": 30,
          "metadata": {},
          "output_type": "execute_result"
        },
        {
          "data": {
            "image/png": "[encoded data removed]",
            "text/plain": [
              "<Figure size 432x288 with 1 Axes>"
            ]
          },
          "metadata": {
            "needs_background": "light"
          },
          "output_type": "display_data"
        }
      ]
    },
    {
      "cell_type": "code",
      "metadata": {
        "id": "475892tCy_Rs",
        "outputId": "ebf0669d-a1ed-4c49-edb8-ccd82596740e"
      },
      "source": [
        "print('Можно ли использовать тут наш подход?')"
      ],
      "execution_count": null,
      "outputs": [
        {
          "name": "stdout",
          "output_type": "stream",
          "text": [
            "Можно ли использовать тут наш подход?\n"
          ]
        }
      ]
    },
    {
      "cell_type": "markdown",
      "metadata": {
        "id": "GjkWE5r8y_Rs"
      },
      "source": [
        "# Теперь сделаем распределение нормальным"
      ]
    },
    {
      "cell_type": "code",
      "metadata": {
        "id": "dp4R0Rfiy_Rt",
        "outputId": "be194462-4b69-48c7-d9f7-e81fc6693b4e"
      },
      "source": [
        "np.log2(abs(df[df.price<500].price)+1).hist(bins=30)"
      ],
      "execution_count": null,
      "outputs": [
        {
          "data": {
            "text/plain": [
              "<AxesSubplot:>"
            ]
          },
          "execution_count": 32,
          "metadata": {},
          "output_type": "execute_result"
        },
        {
          "data": {
            "image/png": "[encoded data removed]",
            "text/plain": [
              "<Figure size 432x288 with 1 Axes>"
            ]
          },
          "metadata": {
            "needs_background": "light"
          },
          "output_type": "display_data"
        }
      ]
    },
    {
      "cell_type": "code",
      "metadata": {
        "id": "b7IE2HSHy_Ru"
      },
      "source": [
        "# df.neighbourhood_group.hist()"
      ],
      "execution_count": null,
      "outputs": []
    },
    {
      "cell_type": "code",
      "metadata": {
        "id": "qDNCCodEy_Rv",
        "outputId": "919c84c4-9fa7-47d6-f028-4a84487e66e2"
      },
      "source": [
        "print(df[df.price<400].price.mean())\n",
        "\n",
        "data = df[(df.neighbourhood_group == 'Brooklyn') | (df.neighbourhood_group=='Staten Island') | (df.neighbourhood_group=='Queens')].price\n",
        "\n",
        "mean_confidence_interval(data, confidence=0.999) # Возможно вам понадобиться эта функция."
      ],
      "execution_count": null,
      "outputs": [
        {
          "name": "stdout",
          "output_type": "stream",
          "text": [
            "122.56345677697612\n"
          ]
        },
        {
          "data": {
            "text/plain": [
              "(111.68856960410567, 115.49388042203987, 119.29919123997406)"
            ]
          },
          "execution_count": 34,
          "metadata": {},
          "output_type": "execute_result"
        }
      ]
    },
    {
      "cell_type": "markdown",
      "metadata": {
        "id": "IUPkwM5Oy_Rv"
      },
      "source": [
        "# Задания для самостоятельного решения\n"
      ]
    },
    {
      "cell_type": "markdown",
      "metadata": {
        "id": "42ed2_89y_Rx"
      },
      "source": [
        "<div class=\"alert alert-info\">\n",
        "<b>Задание № 0</b>\n",
        "\n",
        "Найдите минимально необходимый объем выборки для построения интервальной оценки среднего.\n",
        "\n",
        "- желаемая точность $\\Delta$ = 3;\n",
        "- дисперсия $\\sigma^2$  = 225;\n",
        "- уровень доверия $\\beta$ = 0.95.\n",
        "    \n",
        "Ответ округлите до целого\n",
        "\n",
        "</div>"
      ]
    },
    {
      "cell_type": "code",
      "metadata": {
        "id": "kN_UNdmQy_Rz",
        "colab": {
          "base_uri": "https://localhost:8080/"
        },
        "outputId": "262963dc-1652-493d-a18e-c33babf61867"
      },
      "source": [
        "### Ваши код/вычисления...\n",
        "sigma = 225  # Стандартное отклонение\n",
        "Z = 1.96  #  %   # Квантиль нормального распределения д/двуст.выборки \n",
        "Delta = 3 #%         #Погрешность\n",
        "n = int(((sigma*Z)/Delta)**2) #Запишите в эту переменную ваш высчитанный ответ!\n",
        "n"
      ],
      "execution_count": null,
      "outputs": [
        {
          "output_type": "execute_result",
          "data": {
            "text/plain": [
              "21609"
            ]
          },
          "metadata": {},
          "execution_count": 2
        }
      ]
    },
    {
      "cell_type": "markdown",
      "metadata": {
        "id": "qwtXhEmNy_R6"
      },
      "source": [
        "<div class=\"alert alert-info\">\n",
        "<b>Задание № 1</b>\n",
        "\n",
        "Постройте `98% доверительный интервал` для среднего значения, если известно, что\n",
        "\n",
        "- объем выборки n = 25;\n",
        "- среднее значение по выборке $\\overline x$ = 130;\n",
        "- Из достоверных источников известно стандартное отклонение $\\sigma = 15$.\n",
        "    \n",
        "В ответ укажите длину полученного доверительного интервала (разницу между правым и левым концом), окруленную до целого\n",
        "</div>"
      ]
    },
    {
      "cell_type": "code",
      "metadata": {
        "id": "F_2mPqI5y_R6",
        "colab": {
          "base_uri": "https://localhost:8080/"
        },
        "outputId": "4b332c04-2c99-4e4b-afdd-a3a2f841240c"
      },
      "source": [
        "### Ваши код/вычесления...\n",
        "import scipy.stats as st\n",
        "Z = st.norm.ppf(0.98)# Квантиль нормального распределения\n",
        "import math\n",
        "n = 25\n",
        "x = 130\n",
        "sigma = 15\n",
        "delta = (sigma/math.sqrt(n))*Z\n",
        "L = int((x+delta)-(x-delta))#Запишите в эту переменную ваш высчитанный ответ!\n",
        "\n",
        "print(x-delta,x,x+delta)\n",
        "print(L)  \n"
      ],
      "execution_count": null,
      "outputs": [
        {
          "output_type": "stream",
          "name": "stdout",
          "text": [
            "123.83875326810454 130 136.16124673189546\n",
            "12\n"
          ]
        }
      ]
    },
    {
      "cell_type": "markdown",
      "metadata": {
        "id": "IHCysTxry_R8"
      },
      "source": [
        "### 2. Вам даны две выборки роста мужчин и женщин. Докажите, используя t-Тест Стьдента, что различия между выборками незначительно, если уровень значимости равен 0.001"
      ]
    },
    {
      "cell_type": "markdown",
      "metadata": {
        "id": "dwKkGzKly_R8"
      },
      "source": [
        "<div class=\"alert alert-info\">\n",
        "<b>Задание № 2</b>\n",
        "\n",
        "Даны две выборки роста мужчин и женщин. \n",
        "- Докажите, используя `t-Тест Стьдента`, что различие между выборками незначительно, если уровень значимости равен $\\alpha$ `= 0.001`.\n",
        "- Покажите различия визуально\n",
        "</div>"
      ]
    },
    {
      "cell_type": "code",
      "metadata": {
        "id": "FzKtHPZ5y_R8",
        "colab": {
          "base_uri": "https://localhost:8080/"
        },
        "outputId": "d15bc97e-f3ab-4fba-a307-2ba92124aad6"
      },
      "source": [
        "import scipy.stats as stats\n",
        "np.random.seed(42) #фиксация случайности\n",
        "# Генерируем случайное множество с нормальным распределением, где среднее = loc, а стандартное отклонение = scale\n",
        "mens  = stats.norm.rvs(loc=171, scale=100, size=150000)  # Выборка мужчин со средним ростом 171\n",
        "womens = stats.norm.rvs(loc=170, scale=100, size=150000)  # Выборка женщин со средним ростом 170\n",
        "\n",
        "t, p_value = stats.ttest_ind(mens, womens) #Критерий Стьюдента (t-test)\n",
        "print(t, p_value)\n",
        "print(stats.ttest_ind(mens, womens, equal_var = False))\n",
        "# Так как pvalue (0.0002) меньше уровеня значимости (0.001) -результат статистически значимый\n",
        "# Нулевая гипотеза, что различия значительны следует отвергнуть"
      ],
      "execution_count": null,
      "outputs": [
        {
          "output_type": "stream",
          "name": "stdout",
          "text": [
            "3.6635841716708892 0.00024875321033580573\n",
            "Ttest_indResult(statistic=3.6635841716708897, pvalue=0.00024875321039012085)\n"
          ]
        }
      ]
    },
    {
      "cell_type": "code",
      "metadata": {
        "colab": {
          "base_uri": "https://localhost:8080/",
          "height": 265
        },
        "id": "iy8pmSl0V8fa",
        "outputId": "be59ecdf-4964-422e-bce6-60d6b34f83e2"
      },
      "source": [
        "plt.hist(mens, bins=25); #Выборка mens\n",
        "plt.hist(womens, bins=25);  #Выборка womens\n",
        "# Графическое подтверждение правильности наших выводов"
      ],
      "execution_count": null,
      "outputs": [
        {
          "output_type": "display_data",
          "data": {
            "image/png": "[encoded data removed]",
            "text/plain": [
              "<Figure size 432x288 with 1 Axes>"
            ]
          },
          "metadata": {
            "needs_background": "light"
          }
        }
      ]
    },
    {
      "cell_type": "code",
      "metadata": {
        "colab": {
          "base_uri": "https://localhost:8080/",
          "height": 265
        },
        "id": "hxXCwrq1WVrj",
        "outputId": "c0114020-a46b-4946-9123-3a2ef22a8504"
      },
      "source": [
        "plt.boxplot(mens);\n",
        "plt.boxplot(mens);\n",
        "# Графическое подтверждение правильности наших выводов"
      ],
      "execution_count": null,
      "outputs": [
        {
          "output_type": "display_data",
          "data": {
            "image/png": "[encoded data removed]",
            "text/plain": [
              "<Figure size 432x288 with 1 Axes>"
            ]
          },
          "metadata": {
            "needs_background": "light"
          }
        }
      ]
    },
    {
      "cell_type": "markdown",
      "metadata": {
        "id": "bivfodp9y_SK"
      },
      "source": [
        "### 3. Определите объем необходимой выборки для исследования среднего чека за кофе в случайном городе, если известно, что в этом городе стандартное отклонение = 150, уровень доверия = 95%. Погрешность 50 рублей. "
      ]
    },
    {
      "cell_type": "markdown",
      "metadata": {
        "id": "2uVu127ry_SL"
      },
      "source": [
        "<div class=\"alert alert-info\">\n",
        "<b>Задание № 3</b>\n",
        "\n",
        "Определите объем необходимой выборки для исследования среднего чека за кофе в случайном городе если известно, что в этом городе:\n",
        "\n",
        "- стандартное отклонение $\\sigma = 150$;\n",
        "- уровень доверия $\\beta$  = 95%;\n",
        "- Погрешность $\\Delta = 50$ рублей.\n",
        "</div>"
      ]
    },
    {
      "cell_type": "code",
      "metadata": {
        "id": "2lvmJUcly_SL",
        "colab": {
          "base_uri": "https://localhost:8080/"
        },
        "outputId": "bc6c01cb-089a-4556-d6e1-0489ac6fd8d7"
      },
      "source": [
        "sigma = 150\n",
        "Delta = 50\n",
        "Z = st.norm.ppf(0.95)# Квантиль нормального распределения\n",
        "n = int(((sigma*Z)/Delta)**2)\n",
        "n # объем необходимой выборки для исследования среднего чека за кофе"
      ],
      "execution_count": null,
      "outputs": [
        {
          "output_type": "execute_result",
          "data": {
            "text/plain": [
              "24"
            ]
          },
          "metadata": {},
          "execution_count": 2
        }
      ]
    },
    {
      "cell_type": "markdown",
      "metadata": {
        "id": "17aqB7uby_SL"
      },
      "source": [
        "<div class=\"alert alert-info\">\n",
        "<b>Задание № 4</b>\n",
        "\n",
        "Представьте, что вы хотите разоблачить \"волшебника\" который считает, что умеет предсказывать погоду на завтра, отвечая просто: дождь или солнце. Вы пронаблюдали за ответами \"волшебника\" в течении какого-то периода времени и получили некие результаты (см.ниже).\n",
        "\n",
        "Можно ли сказать, что маг действительно умеет предсказывать погоду? Уровень значимости принять за `0.05` ($\\alpha=0.05$).\n",
        "</div>"
      ]
    },
    {
      "cell_type": "code",
      "metadata": {
        "id": "hQc_cEiIy_SM",
        "colab": {
          "base_uri": "https://localhost:8080/",
          "height": 110
        },
        "outputId": "659c7002-ee1e-4685-9fee-516836ed4a9a"
      },
      "source": [
        "observations = pd.DataFrame([[10, 15],[39, 34]],\n",
        "                            index=['Дождь','Солнце'],\n",
        "                            columns=['Верные ответы волшебника','Неверные ответы'])\n",
        "observations"
      ],
      "execution_count": null,
      "outputs": [
        {
          "output_type": "execute_result",
          "data": {
            "text/html": [
              "<div>\n",
              "<style scoped>\n",
              "    .dataframe tbody tr th:only-of-type {\n",
              "        vertical-align: middle;\n",
              "    }\n",
              "\n",
              "    .dataframe tbody tr th {\n",
              "        vertical-align: top;\n",
              "    }\n",
              "\n",
              "    .dataframe thead th {\n",
              "        text-align: right;\n",
              "    }\n",
              "</style>\n",
              "<table border=\"1\" class=\"dataframe\">\n",
              "  <thead>\n",
              "    <tr style=\"text-align: right;\">\n",
              "      <th></th>\n",
              "      <th>Верные ответы волшебника</th>\n",
              "      <th>Неверные ответы</th>\n",
              "    </tr>\n",
              "  </thead>\n",
              "  <tbody>\n",
              "    <tr>\n",
              "      <th>Дождь</th>\n",
              "      <td>10</td>\n",
              "      <td>15</td>\n",
              "    </tr>\n",
              "    <tr>\n",
              "      <th>Солнце</th>\n",
              "      <td>39</td>\n",
              "      <td>34</td>\n",
              "    </tr>\n",
              "  </tbody>\n",
              "</table>\n",
              "</div>"
            ],
            "text/plain": [
              "        Верные ответы волшебника  Неверные ответы\n",
              "Дождь                         10               15\n",
              "Солнце                        39               34"
            ]
          },
          "metadata": {},
          "execution_count": 15
        }
      ]
    },
    {
      "cell_type": "code",
      "metadata": {
        "id": "BdMrHmQly_SN",
        "colab": {
          "base_uri": "https://localhost:8080/"
        },
        "outputId": "cedacc76-c577-4974-a3f3-77c61156cb1c"
      },
      "source": [
        "import scipy.stats as stats\n",
        "# Учтите, что у стат. тестов, в том числе и точного теста Фишера под нулевой гипотезой подразумевается случайность/отсутсвие эффекта\n",
        "\n",
        "oddsratio, pvalue = stats.fisher_exact(observations)#Возможно пригодится эта функция.\n",
        "oddsratio, pvalue\n",
        "#т.к. pvalue 35% мы не можем отвергнуть нулевую гипотезу, что результат случайный\n",
        "# результат -случайный"
      ],
      "execution_count": null,
      "outputs": [
        {
          "output_type": "execute_result",
          "data": {
            "text/plain": [
              "(0.5811965811965812, 0.35417955365927367)"
            ]
          },
          "metadata": {},
          "execution_count": 18
        }
      ]
    },
    {
      "cell_type": "markdown",
      "metadata": {
        "id": "d4fsCicqy_SN"
      },
      "source": [
        "<div class=\"alert alert-info\">\n",
        "<b>Задание № 5</b> \n",
        "\n",
        "Используя функцию mean_confidence_interval(data, confidence), постройте доверительный интервал с уровнем доверия $\\beta = 90\\%$ для выборки:\n",
        "\n",
        "</div>"
      ]
    },
    {
      "cell_type": "code",
      "metadata": {
        "id": "sFGoYqnry_SO",
        "colab": {
          "base_uri": "https://localhost:8080/"
        },
        "outputId": "83fcfd77-8d81-43af-b2a7-88cd790cf615"
      },
      "source": [
        "data = [4,5,8,9,6,7,5,6,7,8,5,6,7,0,9,8,4,6,\n",
        "        7,9,8,6,5,7,8,9,6,7,5,8,6,7,9,5,10]\n",
        "def mean_confidence_interval(data, confidence=0.95): #Сложный пример реализации. Проще смотри в лекци. \n",
        "    n = len(data)\n",
        "    m, se = np.mean(data), stats.sem(data) # scipy.stats.sem () исп-тся для вычисл. станд. ошибки среднего знач. входных данных\n",
        "    h = se * stats.t.ppf((1 + confidence)/2, n)  #  Δ (функция ppf из scipy возвращает нам перцентиль) \n",
        "    return m-h, m, m+h \n",
        "mean_confidence_interval(data, confidence=0.90)"
      ],
      "execution_count": null,
      "outputs": [
        {
          "output_type": "execute_result",
          "data": {
            "text/plain": [
              "(6.074074746111319, 6.628571428571429, 7.183068111031539)"
            ]
          },
          "metadata": {},
          "execution_count": 20
        }
      ]
    },
    {
      "cell_type": "markdown",
      "metadata": {
        "id": "DVgqBK3Gy_SO"
      },
      "source": [
        "<div class=\"alert alert-info\">\n",
        "<b>Задание № 6</b>\n",
        "\n",
        "Принадлежат ли выборки `A` и `B` одному множеству? \n",
        "    \n",
        "- Оцените это с помощью известных вам тестов для проверок статистических гипотез;\n",
        "- Покажите различия визуально.\n",
        "</div>"
      ]
    },
    {
      "cell_type": "code",
      "metadata": {
        "id": "At_WVcByy_SP",
        "colab": {
          "base_uri": "https://localhost:8080/"
        },
        "outputId": "4b1f736e-47a1-44b9-b532-af31d31ee69f"
      },
      "source": [
        "A = [4,5,8,9,6,7,5,6,7,6,8,5,6,7,8,4,\n",
        "    6,7,9,8,6,5,7,8,6,7,5,6,8,6,7,5,\n",
        "    4,5,8,9,6,7,5,6,7,6,8,5,6,7,8,4,\n",
        "    6,7,9,8,6,5,7,8,6,7,5,6,8,6,7,5,\n",
        "    4,5,8,9,6,7,5,6,7,6,8,5,6,7,8,4,\n",
        "    6,7,9,8,6,5,7,8,6,7,5,6,8,6,7,5,\n",
        "    4,5,8,9,6,7,5,6,7,6,8,5,6,7,8,4]\n",
        "\n",
        "B = [5,6,7,8,4,6,7,2,6,5,7,5,3,5,3,\n",
        "    5,3,5,5,8,7,6,4,5,3,5,4,6,4,5,3,\n",
        "    2,6,4,3,5,4,3,4,5,4,3,4,5,4,3,4,\n",
        "    2,6,4,3,5,4,3,4,5,4,3,4,5,4,3,4,\n",
        "    3,4,4,1,2,4,3,2,4,3,2,1,5,3,4,6,\n",
        "    3,2,4,5,6,4,3,3,5,3,4,4,4,2,5,3]\n",
        " \n",
        "tvalue, pvalue = stats.ttest_ind(A, B)\n",
        "tvalue, pvalue\n",
        "# т.к. pvalue > 5% мы не можем сказать, что выборки относятся к разным множествам\n"
      ],
      "execution_count": null,
      "outputs": [
        {
          "output_type": "execute_result",
          "data": {
            "text/plain": [
              "(11.865233896372924, 4.623319592204015e-25)"
            ]
          },
          "metadata": {},
          "execution_count": 21
        }
      ]
    },
    {
      "cell_type": "code",
      "metadata": {
        "colab": {
          "base_uri": "https://localhost:8080/",
          "height": 265
        },
        "id": "MHOkcbXskZSR",
        "outputId": "b50da4ec-1569-411d-91b5-be7ef5478c48"
      },
      "source": [
        "plt.hist(B, bins=15);\n",
        "plt.hist(A, bins=15);"
      ],
      "execution_count": null,
      "outputs": [
        {
          "output_type": "display_data",
          "data": {
            "image/png": "[encoded data removed]",
            "text/plain": [
              "<Figure size 432x288 with 1 Axes>"
            ]
          },
          "metadata": {
            "needs_background": "light"
          }
        }
      ]
    },
    {
      "cell_type": "code",
      "metadata": {
        "colab": {
          "base_uri": "https://localhost:8080/",
          "height": 265
        },
        "id": "P2CG0rx4kjgY",
        "outputId": "ba2c0704-544e-45c7-edd4-81e72636f0f4"
      },
      "source": [
        "plt.boxplot(A);\n",
        "plt.boxplot(B);"
      ],
      "execution_count": null,
      "outputs": [
        {
          "output_type": "display_data",
          "data": {
            "image/png": "[encoded data removed]",
            "text/plain": [
              "<Figure size 432x288 with 1 Axes>"
            ]
          },
          "metadata": {
            "needs_background": "light"
          }
        }
      ]
    },
    {
      "cell_type": "markdown",
      "metadata": {
        "id": "cLB_mqLsy_SP"
      },
      "source": [
        "<div class=\"alert alert-info\">\n",
        "<b>Задание № 7 (задание без подвоха)</b>\n",
        "\n",
        "На примере датасета про жилье в New York City, мы сталкивались с примером, когда переменная имеет не совсем нормальное распределение. \n",
        "\n",
        "- Предположим, Вы сформировали две гипотезы:\n",
        "    - нулевая гипотеза - распределение нормальное;\n",
        "    - альтернативная гипотеза - распределение ненормальное.\n",
        "- допустим, вы применили какой-то тест (сейчас неважно какой), который показал уровень значимости  `p-value = 0.03`. Каковы будут ваши выводы? Будем считать что у нас нормальное распределение или все-таки нет?)\n",
        "    \n",
        "</div>"
      ]
    },
    {
      "cell_type": "code",
      "metadata": {
        "id": "7H3FkSiYy_SQ"
      },
      "source": [
        "# т.к. pvalue < 5%, мы отвергаем нулевую гипотезу (распределение нормальное). Распределение - ненормальное"
      ],
      "execution_count": null,
      "outputs": []
    },
    {
      "cell_type": "markdown",
      "metadata": {
        "id": "cwtDaoo0y_SQ"
      },
      "source": [
        "<div class=\"alert alert-info\">\n",
        "<b>Задание № 8</b>\n",
        "    \n",
        "Первая выборка — это пациенты, которых лечили препаратом `А`.  Вторая выборка — пациенты, которых лечили препаратом `B`.\n",
        "\n",
        "Значения в выборках — это некоторая характеристика эффективности лечения (уровень метаболита в крови, температура через три дня после начала лечения, срок выздоровления, число койко-дней, и т.д.) \n",
        "\n",
        "- Требуется выяснить, имеется ли значимое различие эффективности препаратов `А` и `B`, или различия являются чисто случайными и объясняются «естественной» дисперсией выбранной характеристики?  (`уровень значимости принять за 0.05 (5%)`)\n",
        "\n",
        "- При каком минимальном p-value различия были бы уже значимы? \n",
        "    \n",
        "- Если выборки незначительно отличаются, то продемонстрируйте это визуально\n",
        "</div>"
      ]
    },
    {
      "cell_type": "code",
      "metadata": {
        "id": "R41tYFCoy_SR",
        "colab": {
          "base_uri": "https://localhost:8080/"
        },
        "outputId": "17b0df1a-af3e-44b8-d762-0f26ffcb1c4c"
      },
      "source": [
        "np.random.seed(11)\n",
        "A = stats.norm.rvs(scale=15, loc=169, size=300)\n",
        "B = stats.norm.rvs(scale=14, loc=171.4, size=300)\n",
        "\n",
        "t, p_value = stats.ttest_ind(A, B) #Критерий Стьюдента (t-test)\n",
        "print(t, p_value)\n",
        "print(stats.ttest_ind(A, B, equal_var = False))\n",
        "# т.к. pvalue = 5% - результат является неоднозначным.\n",
        "# при p-value < 5% различия были бы уже значимы"
      ],
      "execution_count": null,
      "outputs": [
        {
          "output_type": "stream",
          "name": "stdout",
          "text": [
            "-1.95300880485141 0.051284593140469285\n",
            "Ttest_indResult(statistic=-1.95300880485141, pvalue=0.051284961272800134)\n"
          ]
        }
      ]
    },
    {
      "cell_type": "code",
      "metadata": {
        "id": "Kdu31koxy_SS",
        "colab": {
          "base_uri": "https://localhost:8080/",
          "height": 265
        },
        "outputId": "84883e5e-6e0a-4ae7-a0c2-853ea24fe78d"
      },
      "source": [
        " plt.hist(B, bins=15);\n",
        "plt.hist(A, bins=15);\n",
        "#выборки незначительно отличаются"
      ],
      "execution_count": null,
      "outputs": [
        {
          "output_type": "display_data",
          "data": {
            "image/png": "[encoded data removed]",
            "text/plain": [
              "<Figure size 432x288 with 1 Axes>"
            ]
          },
          "metadata": {
            "needs_background": "light"
          }
        }
      ]
    },
    {
      "cell_type": "code",
      "metadata": {
        "id": "AufDJBv_y_SS",
        "colab": {
          "base_uri": "https://localhost:8080/",
          "height": 265
        },
        "outputId": "7e276709-7fd5-472a-8aaf-42a9c85495d8"
      },
      "source": [
        "plt.boxplot(A);\n",
        "plt.boxplot(B);"
      ],
      "execution_count": null,
      "outputs": [
        {
          "output_type": "display_data",
          "data": {
            "image/png": "[encoded data removed]",
            "text/plain": [
              "<Figure size 432x288 with 1 Axes>"
            ]
          },
          "metadata": {
            "needs_background": "light"
          }
        }
      ]
    },
    {
      "cell_type": "code",
      "metadata": {
        "id": "ZidJoDHWy_SS"
      },
      "source": [
        ""
      ],
      "execution_count": null,
      "outputs": []
    }
  ]
}